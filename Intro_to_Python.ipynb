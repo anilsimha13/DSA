{
  "cells": [
    {
      "cell_type": "markdown",
      "metadata": {
        "id": "view-in-github",
        "colab_type": "text"
      },
      "source": [
        "<a href=\"https://colab.research.google.com/github/anilsimha13/DSA/blob/main/Intro_to_Python.ipynb\" target=\"_parent\"><img src=\"https://colab.research.google.com/assets/colab-badge.svg\" alt=\"Open In Colab\"/></a>"
      ]
    },
    {
      "cell_type": "markdown",
      "source": [
        "# **Operators**"
      ],
      "metadata": {
        "id": "BVqVGXkrBP_0"
      }
    },
    {
      "cell_type": "code",
      "source": [
        "q = 3\n",
        "w = 4\n",
        "print(q + w)"
      ],
      "metadata": {
        "colab": {
          "base_uri": "https://localhost:8080/"
        },
        "id": "1sMBYGmZBas3",
        "outputId": "975ac3b7-a8b0-4ef8-db29-610af51c0c74"
      },
      "execution_count": 1,
      "outputs": [
        {
          "output_type": "stream",
          "name": "stdout",
          "text": [
            "7\n"
          ]
        }
      ]
    },
    {
      "cell_type": "code",
      "source": [
        "print(w-q)\n",
        "print(q-w)\n",
        "print(q-2.9)\n",
        "print(\"Anil\" + ' '+ \"Simha\")"
      ],
      "metadata": {
        "colab": {
          "base_uri": "https://localhost:8080/"
        },
        "id": "THxVjGWCEBxF",
        "outputId": "0e445622-63cc-4236-dcab-43d9e667dc6f"
      },
      "execution_count": 4,
      "outputs": [
        {
          "output_type": "stream",
          "name": "stdout",
          "text": [
            "1\n",
            "-1\n",
            "0.10000000000000009\n",
            "Anil Simha\n"
          ]
        }
      ]
    },
    {
      "cell_type": "code",
      "source": [
        "print(\"Anil\" - \"Simha\")"
      ],
      "metadata": {
        "colab": {
          "base_uri": "https://localhost:8080/",
          "height": 141
        },
        "id": "Yw0hYQJUEHT0",
        "outputId": "d94da8df-bcf1-4c19-d028-7be20197e14d"
      },
      "execution_count": 5,
      "outputs": [
        {
          "output_type": "error",
          "ename": "TypeError",
          "evalue": "unsupported operand type(s) for -: 'str' and 'str'",
          "traceback": [
            "\u001b[0;31m---------------------------------------------------------------------------\u001b[0m",
            "\u001b[0;31mTypeError\u001b[0m                                 Traceback (most recent call last)",
            "\u001b[0;32m/tmp/ipython-input-5-2138985370.py\u001b[0m in \u001b[0;36m<cell line: 0>\u001b[0;34m()\u001b[0m\n\u001b[0;32m----> 1\u001b[0;31m \u001b[0mprint\u001b[0m\u001b[0;34m(\u001b[0m\u001b[0;34m\"Anil\"\u001b[0m \u001b[0;34m-\u001b[0m \u001b[0;34m\"Simha\"\u001b[0m\u001b[0;34m)\u001b[0m\u001b[0;34m\u001b[0m\u001b[0;34m\u001b[0m\u001b[0m\n\u001b[0m",
            "\u001b[0;31mTypeError\u001b[0m: unsupported operand type(s) for -: 'str' and 'str'"
          ]
        }
      ]
    },
    {
      "cell_type": "code",
      "source": [
        "print(2*\"Anil\")"
      ],
      "metadata": {
        "colab": {
          "base_uri": "https://localhost:8080/"
        },
        "id": "hXu8DMAqEPsQ",
        "outputId": "d43734c9-476c-4e4a-dbba-58104dcee60e"
      },
      "execution_count": 6,
      "outputs": [
        {
          "output_type": "stream",
          "name": "stdout",
          "text": [
            "AnilAnil\n"
          ]
        }
      ]
    },
    {
      "cell_type": "code",
      "source": [
        "print(q/w)"
      ],
      "metadata": {
        "colab": {
          "base_uri": "https://localhost:8080/"
        },
        "id": "r0bsE_c5EfSC",
        "outputId": "4036d0f1-9746-4c3e-da30-695c2d0fba15"
      },
      "execution_count": 7,
      "outputs": [
        {
          "output_type": "stream",
          "name": "stdout",
          "text": [
            "0.75\n"
          ]
        }
      ]
    },
    {
      "cell_type": "code",
      "source": [
        "a = 2\n",
        "b = 3\n",
        "print(a**2)\n",
        "print(a**b)\n",
        "print(b**3)"
      ],
      "metadata": {
        "colab": {
          "base_uri": "https://localhost:8080/"
        },
        "id": "K6HtQlCJEjln",
        "outputId": "138a4425-276f-4704-b4f8-ee9e5ab0fe26"
      },
      "execution_count": 11,
      "outputs": [
        {
          "output_type": "stream",
          "name": "stdout",
          "text": [
            "4\n",
            "8\n",
            "27\n"
          ]
        }
      ]
    },
    {
      "cell_type": "code",
      "source": [
        "print(10//2) #Floor\n",
        "print(10/2)\n",
        "print(5//2)\n",
        "print(10//3)\n",
        "print(10/3)\n",
        "print(-10//5)\n",
        "print(-13//4)\n",
        "print(-13/4)\n",
        "print(13//4)\n",
        "print(13/4)"
      ],
      "metadata": {
        "colab": {
          "base_uri": "https://localhost:8080/"
        },
        "id": "N25tYYueKaCo",
        "outputId": "3a4d5fe1-de4b-44a7-8eb6-93d46090fcf6"
      },
      "execution_count": 18,
      "outputs": [
        {
          "output_type": "stream",
          "name": "stdout",
          "text": [
            "5\n",
            "5.0\n",
            "2\n",
            "3\n",
            "3.3333333333333335\n",
            "-2\n",
            "-4\n",
            "-3.25\n",
            "3\n",
            "3.25\n"
          ]
        }
      ]
    },
    {
      "cell_type": "code",
      "source": [
        "# Modulus % operator ==> Gives the reminder as o/p\n",
        "print(3%3)\n",
        "print(4%3)\n",
        "print(5%3)\n",
        "print(6%3)\n",
        "print(7%3)\n",
        "print(8%3)\n",
        "print(9%3)\n",
        "print(10%3)"
      ],
      "metadata": {
        "colab": {
          "base_uri": "https://localhost:8080/"
        },
        "id": "6egRrhr8LFa5",
        "outputId": "bd84ddd4-68d3-4fb0-f0ab-ab7f73d2086a"
      },
      "execution_count": 20,
      "outputs": [
        {
          "output_type": "stream",
          "name": "stdout",
          "text": [
            "0\n",
            "1\n",
            "2\n",
            "0\n",
            "1\n",
            "2\n",
            "0\n",
            "1\n"
          ]
        }
      ]
    },
    {
      "cell_type": "code",
      "source": [
        "print(2==3)"
      ],
      "metadata": {
        "colab": {
          "base_uri": "https://localhost:8080/"
        },
        "id": "ezLOUJiEMYfX",
        "outputId": "f9f73054-078e-4825-93ed-c99191259263"
      },
      "execution_count": 21,
      "outputs": [
        {
          "output_type": "stream",
          "name": "stdout",
          "text": [
            "False\n"
          ]
        }
      ]
    },
    {
      "cell_type": "code",
      "source": [
        "print(2 == 2)"
      ],
      "metadata": {
        "colab": {
          "base_uri": "https://localhost:8080/"
        },
        "id": "ofshzPaEMb1S",
        "outputId": "064c7d4a-66be-468a-8f59-4ac1e6004828"
      },
      "execution_count": 22,
      "outputs": [
        {
          "output_type": "stream",
          "name": "stdout",
          "text": [
            "True\n"
          ]
        }
      ]
    },
    {
      "cell_type": "code",
      "source": [
        "print(2.0 == 2)"
      ],
      "metadata": {
        "colab": {
          "base_uri": "https://localhost:8080/"
        },
        "id": "2Vy9PluqMd7c",
        "outputId": "4ebde35f-de32-4d9f-b5b9-755dfe5f2aa2"
      },
      "execution_count": 23,
      "outputs": [
        {
          "output_type": "stream",
          "name": "stdout",
          "text": [
            "True\n"
          ]
        }
      ]
    },
    {
      "cell_type": "code",
      "source": [
        "\"Anil\" == 'anil'"
      ],
      "metadata": {
        "colab": {
          "base_uri": "https://localhost:8080/"
        },
        "id": "A9PKgxdrMiM6",
        "outputId": "36d34a45-1a96-489f-c6c8-802cbb594d7f"
      },
      "execution_count": 25,
      "outputs": [
        {
          "output_type": "execute_result",
          "data": {
            "text/plain": [
              "False"
            ]
          },
          "metadata": {},
          "execution_count": 25
        }
      ]
    },
    {
      "cell_type": "code",
      "source": [
        "2 != 3"
      ],
      "metadata": {
        "colab": {
          "base_uri": "https://localhost:8080/"
        },
        "id": "pdZ4q5t5MoBL",
        "outputId": "3b68b2c4-83c7-4ada-d386-b2759412da5a"
      },
      "execution_count": 26,
      "outputs": [
        {
          "output_type": "execute_result",
          "data": {
            "text/plain": [
              "True"
            ]
          },
          "metadata": {},
          "execution_count": 26
        }
      ]
    },
    {
      "cell_type": "code",
      "source": [
        "\"Anil\" != 'anil'"
      ],
      "metadata": {
        "colab": {
          "base_uri": "https://localhost:8080/"
        },
        "id": "vfiQ1JBIMrXZ",
        "outputId": "6cd4622c-7a99-444d-bad4-474db8385d63"
      },
      "execution_count": 27,
      "outputs": [
        {
          "output_type": "execute_result",
          "data": {
            "text/plain": [
              "True"
            ]
          },
          "metadata": {},
          "execution_count": 27
        }
      ]
    },
    {
      "cell_type": "code",
      "source": [
        "print(7 > 6)"
      ],
      "metadata": {
        "colab": {
          "base_uri": "https://localhost:8080/"
        },
        "id": "o2jbZwkqMwS7",
        "outputId": "12f7baef-2348-43da-c076-4883f80b5d7f"
      },
      "execution_count": 28,
      "outputs": [
        {
          "output_type": "stream",
          "name": "stdout",
          "text": [
            "True\n"
          ]
        }
      ]
    },
    {
      "cell_type": "code",
      "source": [
        "print( 7 >= 7)"
      ],
      "metadata": {
        "colab": {
          "base_uri": "https://localhost:8080/"
        },
        "id": "KvAPpbyOM1_F",
        "outputId": "ec16a0ce-1860-4d4a-8b01-04fe2b21cc6e"
      },
      "execution_count": 29,
      "outputs": [
        {
          "output_type": "stream",
          "name": "stdout",
          "text": [
            "True\n"
          ]
        }
      ]
    },
    {
      "cell_type": "code",
      "source": [
        "print(True and True)\n",
        "print(True and False)\n",
        "print(False and True)\n",
        "print(False and False)\n",
        "print(True or True)\n",
        "print(True or False)\n",
        "print(False or True)\n",
        "print(False or False)"
      ],
      "metadata": {
        "colab": {
          "base_uri": "https://localhost:8080/"
        },
        "id": "rGVdxjoAOjD1",
        "outputId": "21a7da16-1f59-4a69-dc26-aca7ab118725"
      },
      "execution_count": 33,
      "outputs": [
        {
          "output_type": "stream",
          "name": "stdout",
          "text": [
            "True\n",
            "False\n",
            "False\n",
            "False\n",
            "True\n",
            "True\n",
            "True\n",
            "False\n"
          ]
        }
      ]
    },
    {
      "cell_type": "markdown",
      "source": [
        "# **print**"
      ],
      "metadata": {
        "id": "qg8L0-7uaWb-"
      }
    },
    {
      "cell_type": "code",
      "source": [
        "print('Hello World!!')"
      ],
      "metadata": {
        "id": "YOVjtpm3RJWQ",
        "outputId": "d8ff4282-96ec-496e-d491-b4b662f66771",
        "colab": {
          "base_uri": "https://localhost:8080/"
        }
      },
      "execution_count": null,
      "outputs": [
        {
          "output_type": "stream",
          "name": "stdout",
          "text": [
            "Hello World!!\n"
          ]
        }
      ]
    },
    {
      "cell_type": "code",
      "source": [
        "print('Hello Learn DSA with Python')"
      ],
      "metadata": {
        "id": "zjlYHKFqRero",
        "outputId": "d9a2c407-3072-404e-e045-4c045d1a82fc",
        "colab": {
          "base_uri": "https://localhost:8080/"
        }
      },
      "execution_count": null,
      "outputs": [
        {
          "output_type": "stream",
          "name": "stdout",
          "text": [
            "Hello Learn DSA with Python\n"
          ]
        }
      ]
    },
    {
      "cell_type": "code",
      "source": [
        "print('Hello I am doing it from Print Statemennt')"
      ],
      "metadata": {
        "id": "E1KPkHuPR7Vn",
        "outputId": "49552039-661f-4e9c-806d-f90070c833ef",
        "colab": {
          "base_uri": "https://localhost:8080/"
        }
      },
      "execution_count": null,
      "outputs": [
        {
          "output_type": "stream",
          "name": "stdout",
          "text": [
            "Hello I am doing it from Print Statemennt\n"
          ]
        }
      ]
    },
    {
      "cell_type": "markdown",
      "source": [
        "# **Data Types**\n"
      ],
      "metadata": {
        "id": "d-6AcCS9ajw0"
      }
    },
    {
      "cell_type": "markdown",
      "source": [
        "1. Integer\n",
        "2. Float\n",
        "3. Bool\n",
        "4. none\n",
        "5. Strings"
      ],
      "metadata": {
        "id": "G6JUlRwwcJa_"
      }
    },
    {
      "cell_type": "code",
      "source": [
        "print(type(1))"
      ],
      "metadata": {
        "id": "P9l85PsccB3-",
        "outputId": "040363fe-8ca9-4d55-fb55-c8d3cf713f53",
        "colab": {
          "base_uri": "https://localhost:8080/"
        }
      },
      "execution_count": null,
      "outputs": [
        {
          "output_type": "stream",
          "name": "stdout",
          "text": [
            "<class 'int'>\n"
          ]
        }
      ]
    },
    {
      "cell_type": "code",
      "source": [
        "print(type('1'))"
      ],
      "metadata": {
        "id": "ibpO6CRZckHr",
        "outputId": "88a4b4fb-bca4-4d1c-cef3-4f38e1eb9566",
        "colab": {
          "base_uri": "https://localhost:8080/"
        }
      },
      "execution_count": null,
      "outputs": [
        {
          "output_type": "stream",
          "name": "stdout",
          "text": [
            "<class 'str'>\n"
          ]
        }
      ]
    },
    {
      "cell_type": "code",
      "source": [
        "print(type(True))"
      ],
      "metadata": {
        "id": "_rVH80qRcrdX",
        "outputId": "10b72b93-5a8a-484b-da6a-49060deb997e",
        "colab": {
          "base_uri": "https://localhost:8080/"
        }
      },
      "execution_count": null,
      "outputs": [
        {
          "output_type": "stream",
          "name": "stdout",
          "text": [
            "<class 'bool'>\n"
          ]
        }
      ]
    },
    {
      "cell_type": "code",
      "source": [
        "type(1.09)"
      ],
      "metadata": {
        "id": "uSQ1J7OscwG-",
        "outputId": "a50aecfc-c6a2-4602-a499-a52cd9490287",
        "colab": {
          "base_uri": "https://localhost:8080/"
        }
      },
      "execution_count": null,
      "outputs": [
        {
          "output_type": "execute_result",
          "data": {
            "text/plain": [
              "float"
            ]
          },
          "metadata": {},
          "execution_count": 8
        }
      ]
    },
    {
      "cell_type": "code",
      "source": [
        "type(None)"
      ],
      "metadata": {
        "id": "UHuaFfwRc2fL",
        "outputId": "388e7434-e7fc-409e-ee52-46d5b57b3480",
        "colab": {
          "base_uri": "https://localhost:8080/"
        }
      },
      "execution_count": null,
      "outputs": [
        {
          "output_type": "execute_result",
          "data": {
            "text/plain": [
              "NoneType"
            ]
          },
          "metadata": {},
          "execution_count": 9
        }
      ]
    },
    {
      "cell_type": "code",
      "source": [
        "print(\"Multi Line\")\n",
        "print(\"Multi Line\")\n",
        "print(\"Multi Line\")\n",
        "print(\"Multi Line\")"
      ],
      "metadata": {
        "id": "Ctnm1oUXdNdr",
        "outputId": "2c27007b-c02b-473e-bd00-758278c5f1c1",
        "colab": {
          "base_uri": "https://localhost:8080/"
        }
      },
      "execution_count": null,
      "outputs": [
        {
          "output_type": "stream",
          "name": "stdout",
          "text": [
            "Multi Line\n",
            "Multi Line\n",
            "Multi Line\n",
            "Multi Line\n"
          ]
        }
      ]
    },
    {
      "cell_type": "code",
      "source": [
        "type('prints only first line')\n",
        "type('prints only second line')\n",
        "type('prints only third line')\n",
        "type('prints only last line')"
      ],
      "metadata": {
        "id": "sSfxw8hjdUsh",
        "outputId": "0596ec3d-2f7a-459e-f2ba-a268814ff306",
        "colab": {
          "base_uri": "https://localhost:8080/"
        }
      },
      "execution_count": null,
      "outputs": [
        {
          "output_type": "execute_result",
          "data": {
            "text/plain": [
              "str"
            ]
          },
          "metadata": {},
          "execution_count": 12
        }
      ]
    },
    {
      "cell_type": "markdown",
      "source": [
        "# **Variables**"
      ],
      "metadata": {
        "id": "IaUpJ9XNs35o"
      }
    },
    {
      "cell_type": "code",
      "source": [
        "name = 'Anil Simha'"
      ],
      "metadata": {
        "id": "Uk7nHFpktM29"
      },
      "execution_count": null,
      "outputs": []
    },
    {
      "cell_type": "code",
      "source": [
        "print(name)"
      ],
      "metadata": {
        "id": "RYg-rIfWtQYq",
        "outputId": "46d531ab-b4d0-44fa-e799-aec733fc3a10",
        "colab": {
          "base_uri": "https://localhost:8080/"
        }
      },
      "execution_count": null,
      "outputs": [
        {
          "output_type": "stream",
          "name": "stdout",
          "text": [
            "Anil Simha\n"
          ]
        }
      ]
    },
    {
      "cell_type": "code",
      "source": [
        "Name = \"Tallapragada\""
      ],
      "metadata": {
        "id": "-Ebts_6BtTKu"
      },
      "execution_count": null,
      "outputs": []
    },
    {
      "cell_type": "code",
      "source": [
        "print(Name)"
      ],
      "metadata": {
        "id": "Arp0Nem_tYNp",
        "outputId": "42819b47-c1db-4386-8d6e-dc38967c6674",
        "colab": {
          "base_uri": "https://localhost:8080/"
        }
      },
      "execution_count": null,
      "outputs": [
        {
          "output_type": "stream",
          "name": "stdout",
          "text": [
            "Tallapragada\n"
          ]
        }
      ]
    },
    {
      "cell_type": "code",
      "source": [
        "_name_ = 'Bobby'\n",
        "print(_name_)"
      ],
      "metadata": {
        "id": "c3e_22UBtbJ3",
        "outputId": "4ea911b2-d9cf-4e6c-aad5-40f4a8489586",
        "colab": {
          "base_uri": "https://localhost:8080/"
        }
      },
      "execution_count": null,
      "outputs": [
        {
          "output_type": "stream",
          "name": "stdout",
          "text": [
            "Bobby\n"
          ]
        }
      ]
    },
    {
      "cell_type": "code",
      "source": [
        "name_1= 'AST'\n",
        "print(name_1)"
      ],
      "metadata": {
        "id": "7gIe7RO5t7i1",
        "outputId": "27cc6f23-a4d6-4df2-b042-8034c082b871",
        "colab": {
          "base_uri": "https://localhost:8080/"
        }
      },
      "execution_count": null,
      "outputs": [
        {
          "output_type": "stream",
          "name": "stdout",
          "text": [
            "AST\n"
          ]
        }
      ]
    },
    {
      "cell_type": "code",
      "source": [
        "name = 'Anil Simha Tallapragada'"
      ],
      "metadata": {
        "id": "s7u8h4nFt5A5"
      },
      "execution_count": null,
      "outputs": []
    },
    {
      "cell_type": "code",
      "source": [
        "print(name)"
      ],
      "metadata": {
        "id": "VjcRimPowgNL",
        "outputId": "3d9543be-48b5-4604-c09d-3abd3916ff6a",
        "colab": {
          "base_uri": "https://localhost:8080/"
        }
      },
      "execution_count": null,
      "outputs": [
        {
          "output_type": "stream",
          "name": "stdout",
          "text": [
            "Anil Simha Tallapragada\n"
          ]
        }
      ]
    },
    {
      "cell_type": "code",
      "source": [],
      "metadata": {
        "id": "4Sphjq9zwjKB"
      },
      "execution_count": null,
      "outputs": []
    },
    {
      "cell_type": "markdown",
      "source": [
        "# **Input Function**"
      ],
      "metadata": {
        "id": "LD6LD-2PxK1E"
      }
    },
    {
      "cell_type": "code",
      "source": [
        "# By default takes it as str\n",
        "x = input()\n",
        "y = input()\n",
        "z = x + y\n",
        "print(z)"
      ],
      "metadata": {
        "id": "dApXn5XaxRdu",
        "outputId": "aa355740-9f46-4585-d11f-17c242f364e2",
        "colab": {
          "base_uri": "https://localhost:8080/"
        }
      },
      "execution_count": null,
      "outputs": [
        {
          "output_type": "stream",
          "name": "stdout",
          "text": [
            "5\n",
            "5\n",
            "55\n"
          ]
        }
      ]
    },
    {
      "cell_type": "code",
      "source": [
        "x = int(input())\n",
        "y = int(input())\n",
        "z = (x + y)\n",
        "print(z)"
      ],
      "metadata": {
        "id": "LDKAdIrQyJaN",
        "outputId": "9b557e27-1281-426e-9fcc-a1efd5b9cf74",
        "colab": {
          "base_uri": "https://localhost:8080/"
        }
      },
      "execution_count": null,
      "outputs": [
        {
          "output_type": "stream",
          "name": "stdout",
          "text": [
            "99\n",
            "99\n",
            "198\n"
          ]
        }
      ]
    }
  ],
  "metadata": {
    "colab": {
      "toc_visible": true,
      "provenance": [],
      "include_colab_link": true
    },
    "kernelspec": {
      "display_name": "Python 3",
      "name": "python3"
    }
  },
  "nbformat": 4,
  "nbformat_minor": 0
}