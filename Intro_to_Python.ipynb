{
  "cells": [
    {
      "cell_type": "markdown",
      "metadata": {
        "id": "view-in-github",
        "colab_type": "text"
      },
      "source": [
        "<a href=\"https://colab.research.google.com/github/anilsimha13/DSA/blob/main/Intro_to_Python.ipynb\" target=\"_parent\"><img src=\"https://colab.research.google.com/assets/colab-badge.svg\" alt=\"Open In Colab\"/></a>"
      ]
    },
    {
      "cell_type": "markdown",
      "source": [
        "# **Loops**\n",
        "1. While\n",
        "2. For"
      ],
      "metadata": {
        "id": "vLHN-6Th5BmF"
      }
    },
    {
      "cell_type": "code",
      "source": [
        "n = int(input())\n",
        "start = n\n",
        "while start <= n * 10:\n",
        "  print(start)\n",
        "  start += n"
      ],
      "metadata": {
        "colab": {
          "base_uri": "https://localhost:8080/"
        },
        "id": "Az874KA4-8S2",
        "outputId": "71d93b6c-7660-45b9-9bc3-583031eb4491"
      },
      "execution_count": 2,
      "outputs": [
        {
          "output_type": "stream",
          "name": "stdout",
          "text": [
            "7\n",
            "7\n",
            "14\n",
            "21\n",
            "28\n",
            "35\n",
            "42\n",
            "49\n",
            "56\n",
            "63\n",
            "70\n"
          ]
        }
      ]
    },
    {
      "cell_type": "code",
      "source": [
        "i = 1\n",
        "while i <=10:\n",
        "  print(i, end=' ')\n",
        "  i += 1"
      ],
      "metadata": {
        "colab": {
          "base_uri": "https://localhost:8080/"
        },
        "id": "1WUy09H3-MWE",
        "outputId": "a4fdba6e-f0e9-41af-ef88-85d545da89a4"
      },
      "execution_count": 6,
      "outputs": [
        {
          "output_type": "stream",
          "name": "stdout",
          "text": [
            "1 2 3 4 5 6 7 8 9 10 "
          ]
        }
      ]
    },
    {
      "cell_type": "code",
      "source": [
        "i = 1\n",
        "while i<=10:\n",
        "  if i% 2 !=0:\n",
        "    print(i)\n",
        "  i += 1"
      ],
      "metadata": {
        "colab": {
          "base_uri": "https://localhost:8080/"
        },
        "id": "ds8-DzyX94xU",
        "outputId": "761c78ce-5cc3-44bf-c093-e1927b645c8e"
      },
      "execution_count": 2,
      "outputs": [
        {
          "output_type": "stream",
          "name": "stdout",
          "text": [
            "1\n",
            "3\n",
            "5\n",
            "7\n",
            "9\n"
          ]
        }
      ]
    },
    {
      "cell_type": "code",
      "source": [
        "i = 2\n",
        "while i <=10:\n",
        "  if (i % 2 == 0):\n",
        "    print(i)\n",
        "  i += 1"
      ],
      "metadata": {
        "colab": {
          "base_uri": "https://localhost:8080/"
        },
        "id": "Rn2Y6CwK9IOe",
        "outputId": "3b660dd3-b2c6-45ab-bc69-9d698a327a20"
      },
      "execution_count": 1,
      "outputs": [
        {
          "output_type": "stream",
          "name": "stdout",
          "text": [
            "2\n",
            "4\n",
            "6\n",
            "8\n",
            "10\n"
          ]
        }
      ]
    },
    {
      "cell_type": "code",
      "source": [
        "i = 10\n",
        "while i >= 1:\n",
        "  print(i)\n",
        "  i -= 1"
      ],
      "metadata": {
        "colab": {
          "base_uri": "https://localhost:8080/"
        },
        "id": "sxZfkOAm8smw",
        "outputId": "0512edd8-dd25-411d-8279-223ccd01f57e"
      },
      "execution_count": 12,
      "outputs": [
        {
          "output_type": "stream",
          "name": "stdout",
          "text": [
            "10\n",
            "9\n",
            "8\n",
            "7\n",
            "6\n",
            "5\n",
            "4\n",
            "3\n",
            "2\n",
            "1\n"
          ]
        }
      ]
    },
    {
      "cell_type": "code",
      "source": [
        "i = 1\n",
        "while i <= 10:\n",
        "  print(i)\n",
        "  i += 1"
      ],
      "metadata": {
        "colab": {
          "base_uri": "https://localhost:8080/"
        },
        "id": "T9XOyKOc8a9W",
        "outputId": "e5702fd9-69a2-45cb-e9bb-265fd03c5d30"
      },
      "execution_count": 8,
      "outputs": [
        {
          "output_type": "stream",
          "name": "stdout",
          "text": [
            "1\n",
            "2\n",
            "3\n",
            "4\n",
            "5\n",
            "6\n",
            "7\n",
            "8\n",
            "9\n",
            "10\n"
          ]
        }
      ]
    },
    {
      "cell_type": "code",
      "source": [
        "i = 0\n",
        "while i <5:\n",
        "  print(\"Shots\")\n",
        "  i += 1"
      ],
      "metadata": {
        "colab": {
          "base_uri": "https://localhost:8080/"
        },
        "id": "LVqO0psp5WTN",
        "outputId": "23851059-200d-48ee-c70a-fee90f24218f"
      },
      "execution_count": 3,
      "outputs": [
        {
          "output_type": "stream",
          "name": "stdout",
          "text": [
            "Shots\n",
            "Shots\n",
            "Shots\n",
            "Shots\n",
            "Shots\n"
          ]
        }
      ]
    },
    {
      "cell_type": "markdown",
      "source": [
        "# **Control Statements**"
      ],
      "metadata": {
        "id": "AeyROlJnkbRf"
      }
    },
    {
      "cell_type": "code",
      "source": [
        "n = int(input())\n",
        "if n %3 == 0:\n",
        "  print('Fizz')\n",
        "elif n % 5 == 0:\n",
        "  print('Buzz')\n",
        "elif n % 3 == 0 and n % 5 == 0:\n",
        "  print('FizzBuzz')\n",
        "else:\n",
        "  print(n)"
      ],
      "metadata": {
        "colab": {
          "base_uri": "https://localhost:8080/"
        },
        "id": "wI9p-ukysbPo",
        "outputId": "77761bea-c997-4501-c986-cb9b8a2514f5"
      },
      "execution_count": null,
      "outputs": [
        {
          "output_type": "stream",
          "name": "stdout",
          "text": [
            "66\n",
            "Fizz\n"
          ]
        }
      ]
    },
    {
      "cell_type": "code",
      "source": [
        "signal = input()\n",
        "if signal == 'Red':\n",
        "  print(\"Stop\")\n",
        "elif signal == 'Yellow':\n",
        "  print(\"Get Ready\")\n",
        "elif signal == 'Green':\n",
        "  print(\"Go\")\n",
        "else:\n",
        "  print(\"Invalid Signal\")"
      ],
      "metadata": {
        "colab": {
          "base_uri": "https://localhost:8080/"
        },
        "id": "JWuOZ7u2qcc9",
        "outputId": "36d31076-8642-4764-d603-cc9bb197ad39"
      },
      "execution_count": null,
      "outputs": [
        {
          "output_type": "stream",
          "name": "stdout",
          "text": [
            "red\n",
            "Invalid Signal\n"
          ]
        }
      ]
    },
    {
      "cell_type": "code",
      "source": [
        "num = int(input())\n",
        "if num %2 == 0:\n",
        "  print(\"Even\")\n",
        "else:\n",
        "  print(\"Odd\")"
      ],
      "metadata": {
        "colab": {
          "base_uri": "https://localhost:8080/"
        },
        "id": "ZXtgeacko8bT",
        "outputId": "7b24c101-dfeb-41f0-8d4c-944b39cbbc05"
      },
      "execution_count": null,
      "outputs": [
        {
          "output_type": "stream",
          "name": "stdout",
          "text": [
            "2\n",
            "Even\n"
          ]
        }
      ]
    },
    {
      "cell_type": "code",
      "source": [
        "num1 = int(input())\n",
        "num2 = int(input())\n",
        "if num1 > num2:\n",
        "           print(num1, \"is greater than\", num2)\n",
        "else:\n",
        "           print(num2, \"is greater than\", num1)"
      ],
      "metadata": {
        "colab": {
          "base_uri": "https://localhost:8080/"
        },
        "id": "2g6EuNPDocRQ",
        "outputId": "809265bc-443b-4505-830a-c6ed37f5aba8"
      },
      "execution_count": null,
      "outputs": [
        {
          "output_type": "stream",
          "name": "stdout",
          "text": [
            "65\n",
            "75\n",
            "75 is greater than 65\n"
          ]
        }
      ]
    },
    {
      "cell_type": "code",
      "source": [
        "passcode = 'Anil@123'\n",
        "enteredPasscode = input()\n",
        "if enteredPasscode == passcode:\n",
        "  print(\"Access Granted\")\n",
        "else:\n",
        "  print(\"Access Denied\")"
      ],
      "metadata": {
        "colab": {
          "base_uri": "https://localhost:8080/"
        },
        "id": "_RksLFP4oBI1",
        "outputId": "0bcebda2-1f0a-45ee-d9af-3fbc2dfa9eb8"
      },
      "execution_count": null,
      "outputs": [
        {
          "output_type": "stream",
          "name": "stdout",
          "text": [
            "Anil@123\n",
            "Access Granted\n"
          ]
        }
      ]
    },
    {
      "cell_type": "code",
      "source": [
        "number = int(input())\n",
        "if number > 0:\n",
        "  print(\"Number is Positive\")\n",
        "else:\n",
        "  print(\"Number is Negative\")"
      ],
      "metadata": {
        "colab": {
          "base_uri": "https://localhost:8080/"
        },
        "id": "TIp0Bh4DnqRU",
        "outputId": "367bc3ff-02e8-4bc8-b5a9-7019d118305e"
      },
      "execution_count": null,
      "outputs": [
        {
          "output_type": "stream",
          "name": "stdout",
          "text": [
            "-1\n",
            "Number is Negative\n"
          ]
        }
      ]
    },
    {
      "cell_type": "code",
      "source": [
        "weather = input()\n",
        "if weather == 'rainy':\n",
        "  print(\"Trun on Wiper\")\n",
        "else:\n",
        "    print(\"No need to turn on Wiper\")"
      ],
      "metadata": {
        "colab": {
          "base_uri": "https://localhost:8080/"
        },
        "id": "eLDFuYfQkRr6",
        "outputId": "0a383252-fbcb-41c8-fc8c-588be4db4e94"
      },
      "execution_count": null,
      "outputs": [
        {
          "output_type": "stream",
          "name": "stdout",
          "text": [
            "rainy\n",
            "Trun on Wiper\n"
          ]
        }
      ]
    },
    {
      "cell_type": "markdown",
      "source": [
        "# **Operators**"
      ],
      "metadata": {
        "id": "BVqVGXkrBP_0"
      }
    },
    {
      "cell_type": "code",
      "source": [
        "q = 3\n",
        "w = 4\n",
        "print(q + w)"
      ],
      "metadata": {
        "colab": {
          "base_uri": "https://localhost:8080/"
        },
        "id": "1sMBYGmZBas3",
        "outputId": "975ac3b7-a8b0-4ef8-db29-610af51c0c74"
      },
      "execution_count": null,
      "outputs": [
        {
          "output_type": "stream",
          "name": "stdout",
          "text": [
            "7\n"
          ]
        }
      ]
    },
    {
      "cell_type": "code",
      "source": [
        "print(w-q)\n",
        "print(q-w)\n",
        "print(q-2.9)\n",
        "print(\"Anil\" + ' '+ \"Simha\")"
      ],
      "metadata": {
        "colab": {
          "base_uri": "https://localhost:8080/"
        },
        "id": "THxVjGWCEBxF",
        "outputId": "0e445622-63cc-4236-dcab-43d9e667dc6f"
      },
      "execution_count": null,
      "outputs": [
        {
          "output_type": "stream",
          "name": "stdout",
          "text": [
            "1\n",
            "-1\n",
            "0.10000000000000009\n",
            "Anil Simha\n"
          ]
        }
      ]
    },
    {
      "cell_type": "code",
      "source": [
        "print(\"Anil\" - \"Simha\")"
      ],
      "metadata": {
        "colab": {
          "base_uri": "https://localhost:8080/",
          "height": 141
        },
        "id": "Yw0hYQJUEHT0",
        "outputId": "d94da8df-bcf1-4c19-d028-7be20197e14d"
      },
      "execution_count": null,
      "outputs": [
        {
          "output_type": "error",
          "ename": "TypeError",
          "evalue": "unsupported operand type(s) for -: 'str' and 'str'",
          "traceback": [
            "\u001b[0;31m---------------------------------------------------------------------------\u001b[0m",
            "\u001b[0;31mTypeError\u001b[0m                                 Traceback (most recent call last)",
            "\u001b[0;32m/tmp/ipython-input-5-2138985370.py\u001b[0m in \u001b[0;36m<cell line: 0>\u001b[0;34m()\u001b[0m\n\u001b[0;32m----> 1\u001b[0;31m \u001b[0mprint\u001b[0m\u001b[0;34m(\u001b[0m\u001b[0;34m\"Anil\"\u001b[0m \u001b[0;34m-\u001b[0m \u001b[0;34m\"Simha\"\u001b[0m\u001b[0;34m)\u001b[0m\u001b[0;34m\u001b[0m\u001b[0;34m\u001b[0m\u001b[0m\n\u001b[0m",
            "\u001b[0;31mTypeError\u001b[0m: unsupported operand type(s) for -: 'str' and 'str'"
          ]
        }
      ]
    },
    {
      "cell_type": "code",
      "source": [
        "print(2*\"Anil\")"
      ],
      "metadata": {
        "colab": {
          "base_uri": "https://localhost:8080/"
        },
        "id": "hXu8DMAqEPsQ",
        "outputId": "d43734c9-476c-4e4a-dbba-58104dcee60e"
      },
      "execution_count": null,
      "outputs": [
        {
          "output_type": "stream",
          "name": "stdout",
          "text": [
            "AnilAnil\n"
          ]
        }
      ]
    },
    {
      "cell_type": "code",
      "source": [
        "print(q/w)"
      ],
      "metadata": {
        "colab": {
          "base_uri": "https://localhost:8080/"
        },
        "id": "r0bsE_c5EfSC",
        "outputId": "4036d0f1-9746-4c3e-da30-695c2d0fba15"
      },
      "execution_count": null,
      "outputs": [
        {
          "output_type": "stream",
          "name": "stdout",
          "text": [
            "0.75\n"
          ]
        }
      ]
    },
    {
      "cell_type": "code",
      "source": [
        "a = 2\n",
        "b = 3\n",
        "print(a**2)\n",
        "print(a**b)\n",
        "print(b**3)"
      ],
      "metadata": {
        "colab": {
          "base_uri": "https://localhost:8080/"
        },
        "id": "K6HtQlCJEjln",
        "outputId": "138a4425-276f-4704-b4f8-ee9e5ab0fe26"
      },
      "execution_count": null,
      "outputs": [
        {
          "output_type": "stream",
          "name": "stdout",
          "text": [
            "4\n",
            "8\n",
            "27\n"
          ]
        }
      ]
    },
    {
      "cell_type": "code",
      "source": [
        "print(10//2) #Floor\n",
        "print(10/2)\n",
        "print(5//2)\n",
        "print(10//3)\n",
        "print(10/3)\n",
        "print(-10//5)\n",
        "print(-13//4)\n",
        "print(-13/4)\n",
        "print(13//4)\n",
        "print(13/4)"
      ],
      "metadata": {
        "colab": {
          "base_uri": "https://localhost:8080/"
        },
        "id": "N25tYYueKaCo",
        "outputId": "3a4d5fe1-de4b-44a7-8eb6-93d46090fcf6"
      },
      "execution_count": null,
      "outputs": [
        {
          "output_type": "stream",
          "name": "stdout",
          "text": [
            "5\n",
            "5.0\n",
            "2\n",
            "3\n",
            "3.3333333333333335\n",
            "-2\n",
            "-4\n",
            "-3.25\n",
            "3\n",
            "3.25\n"
          ]
        }
      ]
    },
    {
      "cell_type": "code",
      "source": [
        "# Modulus % operator ==> Gives the reminder as o/p\n",
        "print(3%3)\n",
        "print(4%3)\n",
        "print(5%3)\n",
        "print(6%3)\n",
        "print(7%3)\n",
        "print(8%3)\n",
        "print(9%3)\n",
        "print(10%3)"
      ],
      "metadata": {
        "colab": {
          "base_uri": "https://localhost:8080/"
        },
        "id": "6egRrhr8LFa5",
        "outputId": "bd84ddd4-68d3-4fb0-f0ab-ab7f73d2086a"
      },
      "execution_count": null,
      "outputs": [
        {
          "output_type": "stream",
          "name": "stdout",
          "text": [
            "0\n",
            "1\n",
            "2\n",
            "0\n",
            "1\n",
            "2\n",
            "0\n",
            "1\n"
          ]
        }
      ]
    },
    {
      "cell_type": "code",
      "source": [
        "print(2==3)"
      ],
      "metadata": {
        "colab": {
          "base_uri": "https://localhost:8080/"
        },
        "id": "ezLOUJiEMYfX",
        "outputId": "f9f73054-078e-4825-93ed-c99191259263"
      },
      "execution_count": null,
      "outputs": [
        {
          "output_type": "stream",
          "name": "stdout",
          "text": [
            "False\n"
          ]
        }
      ]
    },
    {
      "cell_type": "code",
      "source": [
        "print(2 == 2)"
      ],
      "metadata": {
        "colab": {
          "base_uri": "https://localhost:8080/"
        },
        "id": "ofshzPaEMb1S",
        "outputId": "064c7d4a-66be-468a-8f59-4ac1e6004828"
      },
      "execution_count": null,
      "outputs": [
        {
          "output_type": "stream",
          "name": "stdout",
          "text": [
            "True\n"
          ]
        }
      ]
    },
    {
      "cell_type": "code",
      "source": [
        "print(2.0 == 2)"
      ],
      "metadata": {
        "colab": {
          "base_uri": "https://localhost:8080/"
        },
        "id": "2Vy9PluqMd7c",
        "outputId": "4ebde35f-de32-4d9f-b5b9-755dfe5f2aa2"
      },
      "execution_count": null,
      "outputs": [
        {
          "output_type": "stream",
          "name": "stdout",
          "text": [
            "True\n"
          ]
        }
      ]
    },
    {
      "cell_type": "code",
      "source": [
        "\"Anil\" == 'anil'"
      ],
      "metadata": {
        "colab": {
          "base_uri": "https://localhost:8080/"
        },
        "id": "A9PKgxdrMiM6",
        "outputId": "36d34a45-1a96-489f-c6c8-802cbb594d7f"
      },
      "execution_count": null,
      "outputs": [
        {
          "output_type": "execute_result",
          "data": {
            "text/plain": [
              "False"
            ]
          },
          "metadata": {},
          "execution_count": 25
        }
      ]
    },
    {
      "cell_type": "code",
      "source": [
        "2 != 3"
      ],
      "metadata": {
        "colab": {
          "base_uri": "https://localhost:8080/"
        },
        "id": "pdZ4q5t5MoBL",
        "outputId": "3b68b2c4-83c7-4ada-d386-b2759412da5a"
      },
      "execution_count": null,
      "outputs": [
        {
          "output_type": "execute_result",
          "data": {
            "text/plain": [
              "True"
            ]
          },
          "metadata": {},
          "execution_count": 26
        }
      ]
    },
    {
      "cell_type": "code",
      "source": [
        "\"Anil\" != 'anil'"
      ],
      "metadata": {
        "colab": {
          "base_uri": "https://localhost:8080/"
        },
        "id": "vfiQ1JBIMrXZ",
        "outputId": "6cd4622c-7a99-444d-bad4-474db8385d63"
      },
      "execution_count": null,
      "outputs": [
        {
          "output_type": "execute_result",
          "data": {
            "text/plain": [
              "True"
            ]
          },
          "metadata": {},
          "execution_count": 27
        }
      ]
    },
    {
      "cell_type": "code",
      "source": [
        "print(7 > 6)"
      ],
      "metadata": {
        "colab": {
          "base_uri": "https://localhost:8080/"
        },
        "id": "o2jbZwkqMwS7",
        "outputId": "12f7baef-2348-43da-c076-4883f80b5d7f"
      },
      "execution_count": null,
      "outputs": [
        {
          "output_type": "stream",
          "name": "stdout",
          "text": [
            "True\n"
          ]
        }
      ]
    },
    {
      "cell_type": "code",
      "source": [
        "print( 7 >= 7)"
      ],
      "metadata": {
        "colab": {
          "base_uri": "https://localhost:8080/"
        },
        "id": "KvAPpbyOM1_F",
        "outputId": "ec16a0ce-1860-4d4a-8b01-04fe2b21cc6e"
      },
      "execution_count": null,
      "outputs": [
        {
          "output_type": "stream",
          "name": "stdout",
          "text": [
            "True\n"
          ]
        }
      ]
    },
    {
      "cell_type": "code",
      "source": [
        "print(True and True)\n",
        "print(True and False)\n",
        "print(False and True)\n",
        "print(False and False)\n",
        "print(True or True)\n",
        "print(True or False)\n",
        "print(False or True)\n",
        "print(False or False)"
      ],
      "metadata": {
        "colab": {
          "base_uri": "https://localhost:8080/"
        },
        "id": "rGVdxjoAOjD1",
        "outputId": "21a7da16-1f59-4a69-dc26-aca7ab118725"
      },
      "execution_count": null,
      "outputs": [
        {
          "output_type": "stream",
          "name": "stdout",
          "text": [
            "True\n",
            "False\n",
            "False\n",
            "False\n",
            "True\n",
            "True\n",
            "True\n",
            "False\n"
          ]
        }
      ]
    },
    {
      "cell_type": "markdown",
      "source": [
        "# **print**"
      ],
      "metadata": {
        "id": "qg8L0-7uaWb-"
      }
    },
    {
      "cell_type": "code",
      "source": [
        "print('Hello World!!')"
      ],
      "metadata": {
        "id": "YOVjtpm3RJWQ",
        "outputId": "d8ff4282-96ec-496e-d491-b4b662f66771",
        "colab": {
          "base_uri": "https://localhost:8080/"
        }
      },
      "execution_count": null,
      "outputs": [
        {
          "output_type": "stream",
          "name": "stdout",
          "text": [
            "Hello World!!\n"
          ]
        }
      ]
    },
    {
      "cell_type": "code",
      "source": [
        "print('Hello Learn DSA with Python')"
      ],
      "metadata": {
        "id": "zjlYHKFqRero",
        "outputId": "d9a2c407-3072-404e-e045-4c045d1a82fc",
        "colab": {
          "base_uri": "https://localhost:8080/"
        }
      },
      "execution_count": null,
      "outputs": [
        {
          "output_type": "stream",
          "name": "stdout",
          "text": [
            "Hello Learn DSA with Python\n"
          ]
        }
      ]
    },
    {
      "cell_type": "code",
      "source": [
        "print('Hello I am doing it from Print Statemennt')"
      ],
      "metadata": {
        "id": "E1KPkHuPR7Vn",
        "outputId": "49552039-661f-4e9c-806d-f90070c833ef",
        "colab": {
          "base_uri": "https://localhost:8080/"
        }
      },
      "execution_count": null,
      "outputs": [
        {
          "output_type": "stream",
          "name": "stdout",
          "text": [
            "Hello I am doing it from Print Statemennt\n"
          ]
        }
      ]
    },
    {
      "cell_type": "markdown",
      "source": [
        "# **Data Types**\n"
      ],
      "metadata": {
        "id": "d-6AcCS9ajw0"
      }
    },
    {
      "cell_type": "markdown",
      "source": [
        "1. Integer\n",
        "2. Float\n",
        "3. Bool\n",
        "4. none\n",
        "5. Strings"
      ],
      "metadata": {
        "id": "G6JUlRwwcJa_"
      }
    },
    {
      "cell_type": "code",
      "source": [
        "print(type(1))"
      ],
      "metadata": {
        "id": "P9l85PsccB3-",
        "outputId": "040363fe-8ca9-4d55-fb55-c8d3cf713f53",
        "colab": {
          "base_uri": "https://localhost:8080/"
        }
      },
      "execution_count": null,
      "outputs": [
        {
          "output_type": "stream",
          "name": "stdout",
          "text": [
            "<class 'int'>\n"
          ]
        }
      ]
    },
    {
      "cell_type": "code",
      "source": [
        "print(type('1'))"
      ],
      "metadata": {
        "id": "ibpO6CRZckHr",
        "outputId": "88a4b4fb-bca4-4d1c-cef3-4f38e1eb9566",
        "colab": {
          "base_uri": "https://localhost:8080/"
        }
      },
      "execution_count": null,
      "outputs": [
        {
          "output_type": "stream",
          "name": "stdout",
          "text": [
            "<class 'str'>\n"
          ]
        }
      ]
    },
    {
      "cell_type": "code",
      "source": [
        "print(type(True))"
      ],
      "metadata": {
        "id": "_rVH80qRcrdX",
        "outputId": "10b72b93-5a8a-484b-da6a-49060deb997e",
        "colab": {
          "base_uri": "https://localhost:8080/"
        }
      },
      "execution_count": null,
      "outputs": [
        {
          "output_type": "stream",
          "name": "stdout",
          "text": [
            "<class 'bool'>\n"
          ]
        }
      ]
    },
    {
      "cell_type": "code",
      "source": [
        "type(1.09)"
      ],
      "metadata": {
        "id": "uSQ1J7OscwG-",
        "outputId": "a50aecfc-c6a2-4602-a499-a52cd9490287",
        "colab": {
          "base_uri": "https://localhost:8080/"
        }
      },
      "execution_count": null,
      "outputs": [
        {
          "output_type": "execute_result",
          "data": {
            "text/plain": [
              "float"
            ]
          },
          "metadata": {},
          "execution_count": 8
        }
      ]
    },
    {
      "cell_type": "code",
      "source": [
        "type(None)"
      ],
      "metadata": {
        "id": "UHuaFfwRc2fL",
        "outputId": "388e7434-e7fc-409e-ee52-46d5b57b3480",
        "colab": {
          "base_uri": "https://localhost:8080/"
        }
      },
      "execution_count": null,
      "outputs": [
        {
          "output_type": "execute_result",
          "data": {
            "text/plain": [
              "NoneType"
            ]
          },
          "metadata": {},
          "execution_count": 9
        }
      ]
    },
    {
      "cell_type": "code",
      "source": [
        "print(\"Multi Line\")\n",
        "print(\"Multi Line\")\n",
        "print(\"Multi Line\")\n",
        "print(\"Multi Line\")"
      ],
      "metadata": {
        "id": "Ctnm1oUXdNdr",
        "outputId": "2c27007b-c02b-473e-bd00-758278c5f1c1",
        "colab": {
          "base_uri": "https://localhost:8080/"
        }
      },
      "execution_count": null,
      "outputs": [
        {
          "output_type": "stream",
          "name": "stdout",
          "text": [
            "Multi Line\n",
            "Multi Line\n",
            "Multi Line\n",
            "Multi Line\n"
          ]
        }
      ]
    },
    {
      "cell_type": "code",
      "source": [
        "type('prints only first line')\n",
        "type('prints only second line')\n",
        "type('prints only third line')\n",
        "type('prints only last line')"
      ],
      "metadata": {
        "id": "sSfxw8hjdUsh",
        "outputId": "0596ec3d-2f7a-459e-f2ba-a268814ff306",
        "colab": {
          "base_uri": "https://localhost:8080/"
        }
      },
      "execution_count": null,
      "outputs": [
        {
          "output_type": "execute_result",
          "data": {
            "text/plain": [
              "str"
            ]
          },
          "metadata": {},
          "execution_count": 12
        }
      ]
    },
    {
      "cell_type": "markdown",
      "source": [
        "# **Variables**"
      ],
      "metadata": {
        "id": "IaUpJ9XNs35o"
      }
    },
    {
      "cell_type": "code",
      "source": [
        "name = 'Anil Simha'"
      ],
      "metadata": {
        "id": "Uk7nHFpktM29"
      },
      "execution_count": null,
      "outputs": []
    },
    {
      "cell_type": "code",
      "source": [
        "print(name)"
      ],
      "metadata": {
        "id": "RYg-rIfWtQYq",
        "outputId": "46d531ab-b4d0-44fa-e799-aec733fc3a10",
        "colab": {
          "base_uri": "https://localhost:8080/"
        }
      },
      "execution_count": null,
      "outputs": [
        {
          "output_type": "stream",
          "name": "stdout",
          "text": [
            "Anil Simha\n"
          ]
        }
      ]
    },
    {
      "cell_type": "code",
      "source": [
        "Name = \"Tallapragada\""
      ],
      "metadata": {
        "id": "-Ebts_6BtTKu"
      },
      "execution_count": null,
      "outputs": []
    },
    {
      "cell_type": "code",
      "source": [
        "print(Name)"
      ],
      "metadata": {
        "id": "Arp0Nem_tYNp",
        "outputId": "42819b47-c1db-4386-8d6e-dc38967c6674",
        "colab": {
          "base_uri": "https://localhost:8080/"
        }
      },
      "execution_count": null,
      "outputs": [
        {
          "output_type": "stream",
          "name": "stdout",
          "text": [
            "Tallapragada\n"
          ]
        }
      ]
    },
    {
      "cell_type": "code",
      "source": [
        "_name_ = 'Bobby'\n",
        "print(_name_)"
      ],
      "metadata": {
        "id": "c3e_22UBtbJ3",
        "outputId": "4ea911b2-d9cf-4e6c-aad5-40f4a8489586",
        "colab": {
          "base_uri": "https://localhost:8080/"
        }
      },
      "execution_count": null,
      "outputs": [
        {
          "output_type": "stream",
          "name": "stdout",
          "text": [
            "Bobby\n"
          ]
        }
      ]
    },
    {
      "cell_type": "code",
      "source": [
        "name_1= 'AST'\n",
        "print(name_1)"
      ],
      "metadata": {
        "id": "7gIe7RO5t7i1",
        "outputId": "27cc6f23-a4d6-4df2-b042-8034c082b871",
        "colab": {
          "base_uri": "https://localhost:8080/"
        }
      },
      "execution_count": null,
      "outputs": [
        {
          "output_type": "stream",
          "name": "stdout",
          "text": [
            "AST\n"
          ]
        }
      ]
    },
    {
      "cell_type": "code",
      "source": [
        "name = 'Anil Simha Tallapragada'"
      ],
      "metadata": {
        "id": "s7u8h4nFt5A5"
      },
      "execution_count": null,
      "outputs": []
    },
    {
      "cell_type": "code",
      "source": [
        "print(name)"
      ],
      "metadata": {
        "id": "VjcRimPowgNL",
        "outputId": "3d9543be-48b5-4604-c09d-3abd3916ff6a",
        "colab": {
          "base_uri": "https://localhost:8080/"
        }
      },
      "execution_count": null,
      "outputs": [
        {
          "output_type": "stream",
          "name": "stdout",
          "text": [
            "Anil Simha Tallapragada\n"
          ]
        }
      ]
    },
    {
      "cell_type": "code",
      "source": [],
      "metadata": {
        "id": "4Sphjq9zwjKB"
      },
      "execution_count": null,
      "outputs": []
    },
    {
      "cell_type": "markdown",
      "source": [
        "# **Input Function**"
      ],
      "metadata": {
        "id": "LD6LD-2PxK1E"
      }
    },
    {
      "cell_type": "code",
      "source": [
        "# By default takes it as str\n",
        "x = input()\n",
        "y = input()\n",
        "z = x + y\n",
        "print(z)"
      ],
      "metadata": {
        "id": "dApXn5XaxRdu",
        "outputId": "aa355740-9f46-4585-d11f-17c242f364e2",
        "colab": {
          "base_uri": "https://localhost:8080/"
        }
      },
      "execution_count": null,
      "outputs": [
        {
          "output_type": "stream",
          "name": "stdout",
          "text": [
            "5\n",
            "5\n",
            "55\n"
          ]
        }
      ]
    },
    {
      "cell_type": "code",
      "source": [
        "x = int(input())\n",
        "y = int(input())\n",
        "z = (x + y)\n",
        "print(z)"
      ],
      "metadata": {
        "id": "LDKAdIrQyJaN",
        "outputId": "9b557e27-1281-426e-9fcc-a1efd5b9cf74",
        "colab": {
          "base_uri": "https://localhost:8080/"
        }
      },
      "execution_count": null,
      "outputs": [
        {
          "output_type": "stream",
          "name": "stdout",
          "text": [
            "99\n",
            "99\n",
            "198\n"
          ]
        }
      ]
    }
  ],
  "metadata": {
    "colab": {
      "toc_visible": true,
      "provenance": [],
      "collapsed_sections": [
        "AeyROlJnkbRf",
        "BVqVGXkrBP_0",
        "qg8L0-7uaWb-",
        "d-6AcCS9ajw0",
        "IaUpJ9XNs35o",
        "LD6LD-2PxK1E"
      ],
      "include_colab_link": true
    },
    "kernelspec": {
      "display_name": "Python 3",
      "name": "python3"
    }
  },
  "nbformat": 4,
  "nbformat_minor": 0
}