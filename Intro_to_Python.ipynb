{
  "cells": [
    {
      "cell_type": "markdown",
      "metadata": {
        "id": "view-in-github",
        "colab_type": "text"
      },
      "source": [
        "<a href=\"https://colab.research.google.com/github/anilsimha13/DSA/blob/main/Intro_to_Python.ipynb\" target=\"_parent\"><img src=\"https://colab.research.google.com/assets/colab-badge.svg\" alt=\"Open In Colab\"/></a>"
      ]
    },
    {
      "cell_type": "markdown",
      "source": [
        "# **print**"
      ],
      "metadata": {
        "id": "qg8L0-7uaWb-"
      }
    },
    {
      "cell_type": "code",
      "source": [
        "print('Hello World!!')"
      ],
      "metadata": {
        "id": "YOVjtpm3RJWQ",
        "outputId": "d8ff4282-96ec-496e-d491-b4b662f66771",
        "colab": {
          "base_uri": "https://localhost:8080/"
        }
      },
      "execution_count": null,
      "outputs": [
        {
          "output_type": "stream",
          "name": "stdout",
          "text": [
            "Hello World!!\n"
          ]
        }
      ]
    },
    {
      "cell_type": "code",
      "source": [
        "print('Hello Learn DSA with Python')"
      ],
      "metadata": {
        "id": "zjlYHKFqRero",
        "outputId": "d9a2c407-3072-404e-e045-4c045d1a82fc",
        "colab": {
          "base_uri": "https://localhost:8080/"
        }
      },
      "execution_count": null,
      "outputs": [
        {
          "output_type": "stream",
          "name": "stdout",
          "text": [
            "Hello Learn DSA with Python\n"
          ]
        }
      ]
    },
    {
      "cell_type": "code",
      "source": [
        "print('Hello I am doing it from Print Statemennt')"
      ],
      "metadata": {
        "id": "E1KPkHuPR7Vn",
        "outputId": "49552039-661f-4e9c-806d-f90070c833ef",
        "colab": {
          "base_uri": "https://localhost:8080/"
        }
      },
      "execution_count": null,
      "outputs": [
        {
          "output_type": "stream",
          "name": "stdout",
          "text": [
            "Hello I am doing it from Print Statemennt\n"
          ]
        }
      ]
    },
    {
      "cell_type": "markdown",
      "source": [
        "# **Data Types**\n"
      ],
      "metadata": {
        "id": "d-6AcCS9ajw0"
      }
    },
    {
      "cell_type": "markdown",
      "source": [
        "1. Integer\n",
        "2. Float\n",
        "3. Bool\n",
        "4. none\n",
        "5. Strings"
      ],
      "metadata": {
        "id": "G6JUlRwwcJa_"
      }
    },
    {
      "cell_type": "code",
      "source": [
        "print(type(1))"
      ],
      "metadata": {
        "id": "P9l85PsccB3-",
        "outputId": "040363fe-8ca9-4d55-fb55-c8d3cf713f53",
        "colab": {
          "base_uri": "https://localhost:8080/"
        }
      },
      "execution_count": null,
      "outputs": [
        {
          "output_type": "stream",
          "name": "stdout",
          "text": [
            "<class 'int'>\n"
          ]
        }
      ]
    },
    {
      "cell_type": "code",
      "source": [
        "print(type('1'))"
      ],
      "metadata": {
        "id": "ibpO6CRZckHr",
        "outputId": "88a4b4fb-bca4-4d1c-cef3-4f38e1eb9566",
        "colab": {
          "base_uri": "https://localhost:8080/"
        }
      },
      "execution_count": null,
      "outputs": [
        {
          "output_type": "stream",
          "name": "stdout",
          "text": [
            "<class 'str'>\n"
          ]
        }
      ]
    },
    {
      "cell_type": "code",
      "source": [
        "print(type(True))"
      ],
      "metadata": {
        "id": "_rVH80qRcrdX",
        "outputId": "10b72b93-5a8a-484b-da6a-49060deb997e",
        "colab": {
          "base_uri": "https://localhost:8080/"
        }
      },
      "execution_count": null,
      "outputs": [
        {
          "output_type": "stream",
          "name": "stdout",
          "text": [
            "<class 'bool'>\n"
          ]
        }
      ]
    },
    {
      "cell_type": "code",
      "source": [
        "type(1.09)"
      ],
      "metadata": {
        "id": "uSQ1J7OscwG-",
        "outputId": "a50aecfc-c6a2-4602-a499-a52cd9490287",
        "colab": {
          "base_uri": "https://localhost:8080/"
        }
      },
      "execution_count": null,
      "outputs": [
        {
          "output_type": "execute_result",
          "data": {
            "text/plain": [
              "float"
            ]
          },
          "metadata": {},
          "execution_count": 8
        }
      ]
    },
    {
      "cell_type": "code",
      "source": [
        "type(None)"
      ],
      "metadata": {
        "id": "UHuaFfwRc2fL",
        "outputId": "388e7434-e7fc-409e-ee52-46d5b57b3480",
        "colab": {
          "base_uri": "https://localhost:8080/"
        }
      },
      "execution_count": null,
      "outputs": [
        {
          "output_type": "execute_result",
          "data": {
            "text/plain": [
              "NoneType"
            ]
          },
          "metadata": {},
          "execution_count": 9
        }
      ]
    },
    {
      "cell_type": "code",
      "source": [
        "print(\"Multi Line\")\n",
        "print(\"Multi Line\")\n",
        "print(\"Multi Line\")\n",
        "print(\"Multi Line\")"
      ],
      "metadata": {
        "id": "Ctnm1oUXdNdr",
        "outputId": "2c27007b-c02b-473e-bd00-758278c5f1c1",
        "colab": {
          "base_uri": "https://localhost:8080/"
        }
      },
      "execution_count": null,
      "outputs": [
        {
          "output_type": "stream",
          "name": "stdout",
          "text": [
            "Multi Line\n",
            "Multi Line\n",
            "Multi Line\n",
            "Multi Line\n"
          ]
        }
      ]
    },
    {
      "cell_type": "code",
      "source": [
        "type('prints only first line')\n",
        "type('prints only second line')\n",
        "type('prints only third line')\n",
        "type('prints only last line')"
      ],
      "metadata": {
        "id": "sSfxw8hjdUsh",
        "outputId": "0596ec3d-2f7a-459e-f2ba-a268814ff306",
        "colab": {
          "base_uri": "https://localhost:8080/"
        }
      },
      "execution_count": null,
      "outputs": [
        {
          "output_type": "execute_result",
          "data": {
            "text/plain": [
              "str"
            ]
          },
          "metadata": {},
          "execution_count": 12
        }
      ]
    },
    {
      "cell_type": "markdown",
      "source": [
        "# **Variables**"
      ],
      "metadata": {
        "id": "IaUpJ9XNs35o"
      }
    },
    {
      "cell_type": "code",
      "source": [
        "name = 'Anil Simha'"
      ],
      "metadata": {
        "id": "Uk7nHFpktM29"
      },
      "execution_count": null,
      "outputs": []
    },
    {
      "cell_type": "code",
      "source": [
        "print(name)"
      ],
      "metadata": {
        "id": "RYg-rIfWtQYq",
        "outputId": "46d531ab-b4d0-44fa-e799-aec733fc3a10",
        "colab": {
          "base_uri": "https://localhost:8080/"
        }
      },
      "execution_count": null,
      "outputs": [
        {
          "output_type": "stream",
          "name": "stdout",
          "text": [
            "Anil Simha\n"
          ]
        }
      ]
    },
    {
      "cell_type": "code",
      "source": [
        "Name = \"Tallapragada\""
      ],
      "metadata": {
        "id": "-Ebts_6BtTKu"
      },
      "execution_count": null,
      "outputs": []
    },
    {
      "cell_type": "code",
      "source": [
        "print(Name)"
      ],
      "metadata": {
        "id": "Arp0Nem_tYNp",
        "outputId": "42819b47-c1db-4386-8d6e-dc38967c6674",
        "colab": {
          "base_uri": "https://localhost:8080/"
        }
      },
      "execution_count": null,
      "outputs": [
        {
          "output_type": "stream",
          "name": "stdout",
          "text": [
            "Tallapragada\n"
          ]
        }
      ]
    },
    {
      "cell_type": "code",
      "source": [
        "_name_ = 'Bobby'\n",
        "print(_name_)"
      ],
      "metadata": {
        "id": "c3e_22UBtbJ3",
        "outputId": "4ea911b2-d9cf-4e6c-aad5-40f4a8489586",
        "colab": {
          "base_uri": "https://localhost:8080/"
        }
      },
      "execution_count": null,
      "outputs": [
        {
          "output_type": "stream",
          "name": "stdout",
          "text": [
            "Bobby\n"
          ]
        }
      ]
    },
    {
      "cell_type": "code",
      "source": [
        "name_1= 'AST'\n",
        "print(name_1)"
      ],
      "metadata": {
        "id": "7gIe7RO5t7i1",
        "outputId": "27cc6f23-a4d6-4df2-b042-8034c082b871",
        "colab": {
          "base_uri": "https://localhost:8080/"
        }
      },
      "execution_count": null,
      "outputs": [
        {
          "output_type": "stream",
          "name": "stdout",
          "text": [
            "AST\n"
          ]
        }
      ]
    },
    {
      "cell_type": "code",
      "source": [
        "name = 'Anil Simha Tallapragada'"
      ],
      "metadata": {
        "id": "s7u8h4nFt5A5"
      },
      "execution_count": null,
      "outputs": []
    },
    {
      "cell_type": "code",
      "source": [
        "print(name)"
      ],
      "metadata": {
        "id": "VjcRimPowgNL",
        "outputId": "3d9543be-48b5-4604-c09d-3abd3916ff6a",
        "colab": {
          "base_uri": "https://localhost:8080/"
        }
      },
      "execution_count": null,
      "outputs": [
        {
          "output_type": "stream",
          "name": "stdout",
          "text": [
            "Anil Simha Tallapragada\n"
          ]
        }
      ]
    },
    {
      "cell_type": "code",
      "source": [],
      "metadata": {
        "id": "4Sphjq9zwjKB"
      },
      "execution_count": null,
      "outputs": []
    },
    {
      "cell_type": "markdown",
      "source": [
        "# **Input Function**"
      ],
      "metadata": {
        "id": "LD6LD-2PxK1E"
      }
    },
    {
      "cell_type": "code",
      "source": [
        "# By default takes it as str\n",
        "x = input()\n",
        "y = input()\n",
        "z = x + y\n",
        "print(z)"
      ],
      "metadata": {
        "id": "dApXn5XaxRdu",
        "outputId": "aa355740-9f46-4585-d11f-17c242f364e2",
        "colab": {
          "base_uri": "https://localhost:8080/"
        }
      },
      "execution_count": null,
      "outputs": [
        {
          "output_type": "stream",
          "name": "stdout",
          "text": [
            "5\n",
            "5\n",
            "55\n"
          ]
        }
      ]
    },
    {
      "cell_type": "code",
      "source": [
        "x = int(input())\n",
        "y = int(input())\n",
        "z = (x + y)\n",
        "print(z)"
      ],
      "metadata": {
        "id": "LDKAdIrQyJaN",
        "outputId": "9b557e27-1281-426e-9fcc-a1efd5b9cf74",
        "colab": {
          "base_uri": "https://localhost:8080/"
        }
      },
      "execution_count": null,
      "outputs": [
        {
          "output_type": "stream",
          "name": "stdout",
          "text": [
            "99\n",
            "99\n",
            "198\n"
          ]
        }
      ]
    }
  ],
  "metadata": {
    "colab": {
      "toc_visible": true,
      "provenance": [],
      "include_colab_link": true
    },
    "kernelspec": {
      "display_name": "Python 3",
      "name": "python3"
    }
  },
  "nbformat": 4,
  "nbformat_minor": 0
}