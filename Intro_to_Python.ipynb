{
  "cells": [
    {
      "cell_type": "markdown",
      "metadata": {
        "id": "view-in-github",
        "colab_type": "text"
      },
      "source": [
        "<a href=\"https://colab.research.google.com/github/anilsimha13/DSA/blob/main/Intro_to_Python.ipynb\" target=\"_parent\"><img src=\"https://colab.research.google.com/assets/colab-badge.svg\" alt=\"Open In Colab\"/></a>"
      ]
    },
    {
      "cell_type": "markdown",
      "source": [
        "# **Zip**"
      ],
      "metadata": {
        "id": "K6IoaAfbL5Ve"
      }
    },
    {
      "cell_type": "code",
      "source": [
        "names = ['Anil', 'Taksh', 'Santhu', 'Buddi','x']\n",
        "ages = [32,2,30,1,23,232,323]\n",
        "data = dict(zip(names,ages))\n",
        "data1 = list(zip(names,ages))\n",
        "print(data1)\n",
        "print(data)"
      ],
      "metadata": {
        "colab": {
          "base_uri": "https://localhost:8080/"
        },
        "id": "Nl_mz68LL9W4",
        "outputId": "a7b7394f-2e44-4dd0-8ad3-80ade78346e5"
      },
      "execution_count": null,
      "outputs": [
        {
          "output_type": "stream",
          "name": "stdout",
          "text": [
            "[('Anil', 32), ('Taksh', 2), ('Santhu', 30), ('Buddi', 1)]\n",
            "{'Anil': 32, 'Taksh': 2, 'Santhu': 30, 'Buddi': 1}\n"
          ]
        }
      ]
    },
    {
      "cell_type": "markdown",
      "source": [
        "# **Dictionaries**\n",
        "- Dictionary is like a address book where you can find the address or contact details of the person by knowing only his/her name\n",
        "- Key should be unique\n",
        "- From Python 3.7 and above key-value pairs are ordered\n",
        "- Don't support indexing\n"
      ],
      "metadata": {
        "id": "Yvu0PJBFGjcF"
      }
    },
    {
      "cell_type": "code",
      "source": [
        "dic = {\"Mango\": 226, \"Apple\": 399, \"Amla\": 70}\n",
        "print(dic)"
      ],
      "metadata": {
        "colab": {
          "base_uri": "https://localhost:8080/"
        },
        "id": "p11nHp4iGqFK",
        "outputId": "66c8d151-550a-4156-964b-af1633b0ccfb"
      },
      "execution_count": null,
      "outputs": [
        {
          "output_type": "stream",
          "name": "stdout",
          "text": [
            "{'Mango': 226, 'Apple': 399, 'Amla': 70}\n"
          ]
        }
      ]
    },
    {
      "cell_type": "code",
      "source": [
        "dic['Amla']"
      ],
      "metadata": {
        "id": "rxApyIERePD-",
        "outputId": "05b61772-21a1-4ec3-b09f-342b5a27efd7",
        "colab": {
          "base_uri": "https://localhost:8080/"
        }
      },
      "execution_count": null,
      "outputs": [
        {
          "output_type": "execute_result",
          "data": {
            "text/plain": [
              "70"
            ]
          },
          "metadata": {},
          "execution_count": 9
        }
      ]
    },
    {
      "cell_type": "code",
      "source": [
        "empty = {}\n",
        "type(empty)"
      ],
      "metadata": {
        "colab": {
          "base_uri": "https://localhost:8080/"
        },
        "id": "mlhtqWguLrxW",
        "outputId": "a5c5f943-4089-4959-c7f0-b657e1b15537"
      },
      "execution_count": null,
      "outputs": [
        {
          "output_type": "execute_result",
          "data": {
            "text/plain": [
              "dict"
            ]
          },
          "metadata": {},
          "execution_count": 2
        }
      ]
    },
    {
      "cell_type": "markdown",
      "source": [
        "# **Tuples and Sets**\n",
        "### **Tuples** ()\n",
        "- Tuples are immutable in nature\n",
        "- Tuples are frozen data sets\n",
        "- index\n",
        "- count\n",
        "\n",
        "### **Sets** {}\n",
        "- Holds unique data\n",
        "- Sets are unordered\n",
        "- Sets doesn't support Indexing\n",
        "- in operator\n",
        "- empty set => s = set()\n",
        "- add\n",
        "- update\n",
        "- pop\n",
        "- remove\n",
        "- intersection\n",
        "- union\n",
        "- difference\n"
      ],
      "metadata": {
        "id": "lRSJOW8955Fp"
      }
    },
    {
      "cell_type": "code",
      "source": [
        "v = 'Anil Simha'\n",
        "c = set(v)\n",
        "print(c)\n",
        "for i in c:\n",
        "  print(i)"
      ],
      "metadata": {
        "colab": {
          "base_uri": "https://localhost:8080/"
        },
        "id": "mkrGNBiBC9J7",
        "outputId": "066b6831-ccde-4e7d-b607-ac0a408157a9"
      },
      "execution_count": null,
      "outputs": [
        {
          "output_type": "stream",
          "name": "stdout",
          "text": [
            "{'l', 'h', 'S', 'i', 'A', ' ', 'm', 'a', 'n'}\n",
            "l\n",
            "h\n",
            "S\n",
            "i\n",
            "A\n",
            " \n",
            "m\n",
            "a\n",
            "n\n"
          ]
        }
      ]
    },
    {
      "cell_type": "code",
      "source": [
        "b = {'h','e','l','l','o'}\n",
        "for i in b:\n",
        "  print(i)"
      ],
      "metadata": {
        "colab": {
          "base_uri": "https://localhost:8080/"
        },
        "id": "QSlCMnE_Cu1V",
        "outputId": "4bd21b60-fd21-4f5b-913c-84259868c39d"
      },
      "execution_count": null,
      "outputs": [
        {
          "output_type": "stream",
          "name": "stdout",
          "text": [
            "o\n",
            "l\n",
            "h\n",
            "e\n"
          ]
        }
      ]
    },
    {
      "cell_type": "code",
      "source": [
        "m = set()\n",
        "type(m)\n",
        "m = {2,2,3,4,5,6,1,9,6,4,6}\n",
        "print(m)"
      ],
      "metadata": {
        "colab": {
          "base_uri": "https://localhost:8080/"
        },
        "id": "LYOBWWn8A3rV",
        "outputId": "7b0bf299-65c6-4d36-81e6-d60db390c6f4"
      },
      "execution_count": null,
      "outputs": [
        {
          "output_type": "stream",
          "name": "stdout",
          "text": [
            "{1, 2, 3, 4, 5, 6, 9}\n"
          ]
        }
      ]
    },
    {
      "cell_type": "code",
      "source": [
        "s = {'Anil','Simha','Anil'}\n",
        "print(s)"
      ],
      "metadata": {
        "colab": {
          "base_uri": "https://localhost:8080/"
        },
        "id": "1ffYd3QQAgtg",
        "outputId": "8363fb32-f975-498e-b1ac-e292a0c6e6fd"
      },
      "execution_count": null,
      "outputs": [
        {
          "output_type": "stream",
          "name": "stdout",
          "text": [
            "{'Anil', 'Simha'}\n"
          ]
        }
      ]
    },
    {
      "cell_type": "code",
      "source": [
        "\"Bobby\" in s"
      ],
      "metadata": {
        "colab": {
          "base_uri": "https://localhost:8080/"
        },
        "id": "M2iG-2MkA_qs",
        "outputId": "b2e27552-803b-4d47-e501-d038b8ffd451"
      },
      "execution_count": null,
      "outputs": [
        {
          "output_type": "execute_result",
          "data": {
            "text/plain": [
              "False"
            ]
          },
          "metadata": {},
          "execution_count": 31
        }
      ]
    },
    {
      "cell_type": "code",
      "source": [
        "\"Anil\" in s"
      ],
      "metadata": {
        "colab": {
          "base_uri": "https://localhost:8080/"
        },
        "id": "UfRULyXEA6ir",
        "outputId": "0c48b744-b66f-4a24-94b4-d544b01fc271"
      },
      "execution_count": null,
      "outputs": [
        {
          "output_type": "execute_result",
          "data": {
            "text/plain": [
              "True"
            ]
          },
          "metadata": {},
          "execution_count": 30
        }
      ]
    },
    {
      "cell_type": "code",
      "source": [
        "name = 'Anil Simha'\n",
        "tuple(name)"
      ],
      "metadata": {
        "colab": {
          "base_uri": "https://localhost:8080/"
        },
        "id": "bAp1vWpA-BZP",
        "outputId": "aa715eed-6bef-48c6-a684-4478165df177"
      },
      "execution_count": null,
      "outputs": [
        {
          "output_type": "execute_result",
          "data": {
            "text/plain": [
              "('A', 'n', 'i', 'l', ' ', 'S', 'i', 'm', 'h', 'a')"
            ]
          },
          "metadata": {},
          "execution_count": 28
        }
      ]
    },
    {
      "cell_type": "code",
      "source": [
        "tuples = ('1','2','4','5','6')\n",
        "print(tuples[2])\n",
        "#tuples[2] = 3"
      ],
      "metadata": {
        "colab": {
          "base_uri": "https://localhost:8080/"
        },
        "id": "3fXa0zLK520_",
        "outputId": "f7a65de5-5066-44c9-f29e-8e0e8360178b"
      },
      "execution_count": null,
      "outputs": [
        {
          "output_type": "stream",
          "name": "stdout",
          "text": [
            "4\n"
          ]
        }
      ]
    },
    {
      "cell_type": "markdown",
      "source": [
        "# **Strings**\n",
        "- ord\n",
        "- chr\n",
        "- string formatting\n",
        "  - len\n",
        "  - captialize\n",
        "  - title\n",
        "  - count\n",
        "  - replace\n",
        "  - split\n",
        "  - join\n",
        "  - find\n",
        "  - isdigit\n",
        "  - isalpha\n",
        "  - isalnum\n",
        "  - isupper\n",
        "  - islower\n",
        "  - upper\n",
        "  - lower\n",
        "-  Strings are iterable"
      ],
      "metadata": {
        "id": "_IhxTZIgb7lL"
      }
    },
    {
      "cell_type": "code",
      "source": [
        "def isPalindrom(stringToEnter):\n",
        "  if stringToEnter == stringToEnter[::-1]:\n",
        "    return True\n",
        "  else:\n",
        "    return False"
      ],
      "metadata": {
        "id": "00QQlJlC4E2C"
      },
      "execution_count": null,
      "outputs": []
    },
    {
      "cell_type": "code",
      "source": [
        "isPalindrom('Anil')\n",
        "isPalindrom('MadaM')"
      ],
      "metadata": {
        "colab": {
          "base_uri": "https://localhost:8080/"
        },
        "id": "kEK7cab-4O5R",
        "outputId": "cd8d08d5-ccf7-4e1b-ec67-54705bb481b0"
      },
      "execution_count": null,
      "outputs": [
        {
          "output_type": "execute_result",
          "data": {
            "text/plain": [
              "True"
            ]
          },
          "metadata": {},
          "execution_count": 24
        }
      ]
    },
    {
      "cell_type": "code",
      "source": [
        "\"anil\"[::-1]"
      ],
      "metadata": {
        "colab": {
          "base_uri": "https://localhost:8080/",
          "height": 35
        },
        "id": "urBue8br2uv7",
        "outputId": "1d60fd25-3cd3-4a2b-9c9a-be5368126e9a"
      },
      "execution_count": null,
      "outputs": [
        {
          "output_type": "execute_result",
          "data": {
            "text/plain": [
              "'lina'"
            ],
            "application/vnd.google.colaboratory.intrinsic+json": {
              "type": "string"
            }
          },
          "metadata": {},
          "execution_count": 20
        }
      ]
    },
    {
      "cell_type": "code",
      "source": [
        "total = 0\n",
        "for i in name:\n",
        "  if ord(i)>=65 and ord(i)<=90:\n",
        "    total += 1\n",
        "print(total)"
      ],
      "metadata": {
        "colab": {
          "base_uri": "https://localhost:8080/"
        },
        "id": "GPjm7ar-2QEW",
        "outputId": "d2932463-05c0-4ca7-b7bf-7d4228cb81a2"
      },
      "execution_count": null,
      "outputs": [
        {
          "output_type": "stream",
          "name": "stdout",
          "text": [
            "2\n"
          ]
        }
      ]
    },
    {
      "cell_type": "code",
      "source": [
        "for i in name:\n",
        "  if ord(i)>=65 and ord(i)<=90:\n",
        "    print(i)"
      ],
      "metadata": {
        "colab": {
          "base_uri": "https://localhost:8080/"
        },
        "id": "b96U5T_92Jgo",
        "outputId": "e85e2ed9-a60b-4c74-c637-aa54be58c14a"
      },
      "execution_count": null,
      "outputs": [
        {
          "output_type": "stream",
          "name": "stdout",
          "text": [
            "A\n",
            "S\n"
          ]
        }
      ]
    },
    {
      "cell_type": "code",
      "source": [
        "for i in name:\n",
        "  if i.isupper():\n",
        "    print(i)"
      ],
      "metadata": {
        "colab": {
          "base_uri": "https://localhost:8080/"
        },
        "id": "pcWtb5GR15Hr",
        "outputId": "9f322228-91eb-4929-ef63-ed6f87192491"
      },
      "execution_count": null,
      "outputs": [
        {
          "output_type": "stream",
          "name": "stdout",
          "text": [
            "A\n",
            "S\n"
          ]
        }
      ]
    },
    {
      "cell_type": "code",
      "source": [
        "name = 'Anil Simha'\n",
        "print(name)\n",
        "\n",
        "for i in name:\n",
        "  print(ord(i),i)"
      ],
      "metadata": {
        "colab": {
          "base_uri": "https://localhost:8080/"
        },
        "id": "KQx5tIR71ULK",
        "outputId": "67fa513b-c00f-4ba9-9beb-d7f74f3e13ce"
      },
      "execution_count": null,
      "outputs": [
        {
          "output_type": "stream",
          "name": "stdout",
          "text": [
            "Anil Simha\n",
            "65 A\n",
            "110 n\n",
            "105 i\n",
            "108 l\n",
            "32  \n",
            "83 S\n",
            "105 i\n",
            "109 m\n",
            "104 h\n",
            "97 a\n"
          ]
        }
      ]
    },
    {
      "cell_type": "code",
      "source": [],
      "metadata": {
        "colab": {
          "base_uri": "https://localhost:8080/",
          "height": 35
        },
        "id": "m7wT_uWr1b6Y",
        "outputId": "c6f1461b-37d9-4d23-acfc-c2a7e1215865"
      },
      "execution_count": null,
      "outputs": [
        {
          "output_type": "execute_result",
          "data": {
            "text/plain": [
              "'Anil Simha'"
            ],
            "application/vnd.google.colaboratory.intrinsic+json": {
              "type": "string"
            }
          },
          "metadata": {},
          "execution_count": 9
        }
      ]
    },
    {
      "cell_type": "code",
      "source": [
        "\"2\".isdigit()"
      ],
      "metadata": {
        "colab": {
          "base_uri": "https://localhost:8080/"
        },
        "id": "GnbZaMgF0TBY",
        "outputId": "24b353bc-bde9-40d0-ed74-8d898e17eb4d"
      },
      "execution_count": null,
      "outputs": [
        {
          "output_type": "execute_result",
          "data": {
            "text/plain": [
              "True"
            ]
          },
          "metadata": {},
          "execution_count": 1
        }
      ]
    },
    {
      "cell_type": "code",
      "source": [
        "\"21a\".isalnum()"
      ],
      "metadata": {
        "colab": {
          "base_uri": "https://localhost:8080/"
        },
        "id": "B8HfPUy30u14",
        "outputId": "424abf09-6765-4c24-8bbc-ac184f30aaff"
      },
      "execution_count": null,
      "outputs": [
        {
          "output_type": "execute_result",
          "data": {
            "text/plain": [
              "True"
            ]
          },
          "metadata": {},
          "execution_count": 5
        }
      ]
    },
    {
      "cell_type": "code",
      "source": [
        "\"2a\".isdigit()"
      ],
      "metadata": {
        "colab": {
          "base_uri": "https://localhost:8080/"
        },
        "id": "5yWhP6NM0cqU",
        "outputId": "fb99bb10-3376-4184-f47e-b92ac5f6ec25"
      },
      "execution_count": null,
      "outputs": [
        {
          "output_type": "execute_result",
          "data": {
            "text/plain": [
              "False"
            ]
          },
          "metadata": {},
          "execution_count": 2
        }
      ]
    },
    {
      "cell_type": "code",
      "source": [
        "\"2a\".isalpha()"
      ],
      "metadata": {
        "colab": {
          "base_uri": "https://localhost:8080/"
        },
        "id": "AEZR2jYj0hzA",
        "outputId": "643aab1e-d032-4c31-9000-e2838bcda220"
      },
      "execution_count": null,
      "outputs": [
        {
          "output_type": "execute_result",
          "data": {
            "text/plain": [
              "False"
            ]
          },
          "metadata": {},
          "execution_count": 3
        }
      ]
    },
    {
      "cell_type": "code",
      "source": [
        "\"a\".isalpha()"
      ],
      "metadata": {
        "colab": {
          "base_uri": "https://localhost:8080/"
        },
        "id": "oDljbUFB0mG6",
        "outputId": "f00227df-4a87-4f16-ba76-4f2d81f7fc3f"
      },
      "execution_count": null,
      "outputs": [
        {
          "output_type": "execute_result",
          "data": {
            "text/plain": [
              "True"
            ]
          },
          "metadata": {},
          "execution_count": 4
        }
      ]
    },
    {
      "cell_type": "code",
      "source": [
        "n = ['a','n','i','l']\n",
        "print('--'.join(n))"
      ],
      "metadata": {
        "colab": {
          "base_uri": "https://localhost:8080/"
        },
        "id": "5Dq34y1XjSMk",
        "outputId": "b267362b-d2ad-477f-a515-033b6a3cc679"
      },
      "execution_count": null,
      "outputs": [
        {
          "output_type": "stream",
          "name": "stdout",
          "text": [
            "a--n--i--l\n"
          ]
        }
      ]
    },
    {
      "cell_type": "code",
      "source": [
        "Name = 'anil simha'\n",
        "print(len(Name))\n",
        "print(Name.capitalize())\n",
        "print(Name.title())\n",
        "print(Name.count('a'))\n",
        "print(Name.replace('a','A'))\n",
        "print(Name.split(' '))\n",
        "print(Name.find('a'))"
      ],
      "metadata": {
        "colab": {
          "base_uri": "https://localhost:8080/"
        },
        "id": "1Lw9nACphQda",
        "outputId": "0eb357c2-7e61-4324-9d43-61eae7c6019e"
      },
      "execution_count": null,
      "outputs": [
        {
          "output_type": "stream",
          "name": "stdout",
          "text": [
            "10\n",
            "Anil simha\n",
            "Anil Simha\n",
            "2\n",
            "Anil simhA\n",
            "['anil', 'simha']\n",
            "0\n"
          ]
        }
      ]
    },
    {
      "cell_type": "code",
      "source": [
        "Age = 32\n",
        "Born = 1993\n",
        "Place = \"Kakinada\"\n",
        "\n",
        "print(f\"I am Anil Simha and born on the year {Born} in {Place} and I am {Age} years old\")"
      ],
      "metadata": {
        "colab": {
          "base_uri": "https://localhost:8080/"
        },
        "id": "Ey15c41UeaDJ",
        "outputId": "8a3fa87f-491c-47a8-8ca8-0536580a6d5f"
      },
      "execution_count": null,
      "outputs": [
        {
          "output_type": "stream",
          "name": "stdout",
          "text": [
            "I am Anil Simha and born on the year 1993 in Kakinada and I am 32 years old\n"
          ]
        }
      ]
    },
    {
      "cell_type": "code",
      "source": [
        "print(ord('A'))\n",
        "print(ord('a'))\n",
        "print(chr(121))"
      ],
      "metadata": {
        "colab": {
          "base_uri": "https://localhost:8080/"
        },
        "id": "bVaWAByhcBes",
        "outputId": "87167d6f-c000-4f5f-f6bb-db7bc312e8f6"
      },
      "execution_count": null,
      "outputs": [
        {
          "output_type": "stream",
          "name": "stdout",
          "text": [
            "65\n",
            "97\n",
            "y\n"
          ]
        }
      ]
    },
    {
      "cell_type": "markdown",
      "source": [
        "# **Slicing**\n",
        "- ['starting index' : 'ending index' : 'jump']\n",
        "- Nested List\n",
        "- 2D List"
      ],
      "metadata": {
        "id": "eEMiP3iy564f"
      }
    },
    {
      "cell_type": "code",
      "source": [
        "a = [[10,20],[30,40],[50,60]]\n",
        "total = 0\n",
        "for i in a:\n",
        "  total += (sum(i))\n",
        "print(total)"
      ],
      "metadata": {
        "colab": {
          "base_uri": "https://localhost:8080/"
        },
        "id": "O2C25-ILUP76",
        "outputId": "b4783445-c741-4431-f502-49915eb28d5d"
      },
      "execution_count": null,
      "outputs": [
        {
          "output_type": "stream",
          "name": "stdout",
          "text": [
            "210\n"
          ]
        }
      ]
    },
    {
      "cell_type": "code",
      "source": [
        "a = [[10,20],[30,40],[50,60]]\n",
        "total = 0\n",
        "for i in a:\n",
        "  for j in i:\n",
        "    total += j\n",
        "print(total)"
      ],
      "metadata": {
        "colab": {
          "base_uri": "https://localhost:8080/"
        },
        "id": "qUqdDvUlTlhu",
        "outputId": "f823943c-bd47-4dc7-8e33-6652398ea9a7"
      },
      "execution_count": null,
      "outputs": [
        {
          "output_type": "stream",
          "name": "stdout",
          "text": [
            "210\n"
          ]
        }
      ]
    },
    {
      "cell_type": "code",
      "source": [
        "m = [[15,14],[13,12],[11,10]]\n",
        "#print(m[0])\n",
        "#print(m[0][1])\n",
        "#print(m[1][0])\n",
        "#print(m[2][1])\n",
        "for i in m:\n",
        "  for j in i:\n",
        "    print(j)"
      ],
      "metadata": {
        "colab": {
          "base_uri": "https://localhost:8080/"
        },
        "id": "ukvGYwIlRAjU",
        "outputId": "7a645d2f-e2d0-471a-e112-296887ce14a7"
      },
      "execution_count": null,
      "outputs": [
        {
          "output_type": "stream",
          "name": "stdout",
          "text": [
            "15\n",
            "14\n",
            "13\n",
            "12\n",
            "11\n",
            "10\n"
          ]
        }
      ]
    },
    {
      "cell_type": "code",
      "source": [
        "ele = [11,12,13,14,15,16,17,18,19]\n",
        "print(ele[2:7:3])\n",
        "print(ele[:4])\n",
        "print(ele[:])\n",
        "print(ele[0:5:2])\n",
        "print(ele[:-1])\n",
        "print(ele[5:-1])\n",
        "print(ele[5:-1:2])\n",
        "print(ele[3::-1])\n",
        "print(ele[::-1])"
      ],
      "metadata": {
        "colab": {
          "base_uri": "https://localhost:8080/"
        },
        "id": "nrM5lv0O5_U8",
        "outputId": "6557afa6-80b8-493d-b6f2-d761c2788936"
      },
      "execution_count": null,
      "outputs": [
        {
          "output_type": "stream",
          "name": "stdout",
          "text": [
            "[13, 16]\n",
            "[11, 12, 13, 14]\n",
            "[11, 12, 13, 14, 15, 16, 17, 18, 19]\n",
            "[11, 13, 15]\n",
            "[11, 12, 13, 14, 15, 16, 17, 18]\n",
            "[16, 17, 18]\n",
            "[16, 18]\n",
            "[14, 13, 12, 11]\n",
            "[19, 18, 17, 16, 15, 14, 13, 12, 11]\n"
          ]
        }
      ]
    },
    {
      "cell_type": "markdown",
      "source": [
        "# **Lists**\n",
        "- List can be used to store a data of different data types\n",
        "- append\n",
        "- insert\n",
        "- extend\n",
        "- concatination\n",
        "- pop(Remove the data - using Index)\n",
        "- remove(Remove the data - Using Value)\n",
        "- count(no.of occurences in the list)\n",
        "- membership (in operator)\n",
        "- sum\n",
        "- min\n",
        "- max"
      ],
      "metadata": {
        "id": "FPK-6ifkh4BD"
      }
    },
    {
      "cell_type": "code",
      "source": [
        "el = [1234,5678,9101]\n",
        "print(sum(el))\n",
        "total_r = 0\n",
        "for i in el:\n",
        "  total_r += i\n",
        "print(total_r)"
      ],
      "metadata": {
        "colab": {
          "base_uri": "https://localhost:8080/"
        },
        "id": "vSP8uwvyKJty",
        "outputId": "d4d82d3a-753a-4aa1-f499-eb1c2c5481d1"
      },
      "execution_count": null,
      "outputs": [
        {
          "output_type": "stream",
          "name": "stdout",
          "text": [
            "16013\n",
            "16013\n"
          ]
        }
      ]
    },
    {
      "cell_type": "code",
      "source": [
        "print(min(el))\n",
        "print(max(el))"
      ],
      "metadata": {
        "colab": {
          "base_uri": "https://localhost:8080/"
        },
        "id": "1ftyr6SWLQyx",
        "outputId": "a9f4262a-c807-4b37-af02-7c32633fea1c"
      },
      "execution_count": null,
      "outputs": [
        {
          "output_type": "stream",
          "name": "stdout",
          "text": [
            "1234\n",
            "9101\n"
          ]
        }
      ]
    },
    {
      "cell_type": "code",
      "source": [
        "avg = sum(el)/ len(el)\n",
        "print(avg)"
      ],
      "metadata": {
        "colab": {
          "base_uri": "https://localhost:8080/"
        },
        "id": "V7uYcVB9LGyo",
        "outputId": "74fa3965-783c-41df-c921-af77a310949f"
      },
      "execution_count": null,
      "outputs": [
        {
          "output_type": "stream",
          "name": "stdout",
          "text": [
            "5337.666666666667\n"
          ]
        }
      ]
    },
    {
      "cell_type": "code",
      "source": [
        "w = [777,888,999,111,222,333,444]\n",
        "length = len(w)\n",
        "print(length)\n",
        "for i in range(length):\n",
        "  print(i,w[i])"
      ],
      "metadata": {
        "colab": {
          "base_uri": "https://localhost:8080/"
        },
        "id": "oWcRvZcwIbfc",
        "outputId": "7bdf6c31-4401-4d3b-ad88-526323c7effd"
      },
      "execution_count": null,
      "outputs": [
        {
          "output_type": "stream",
          "name": "stdout",
          "text": [
            "7\n",
            "0 777\n",
            "1 888\n",
            "2 999\n",
            "3 111\n",
            "4 222\n",
            "5 333\n",
            "6 444\n"
          ]
        }
      ]
    },
    {
      "cell_type": "code",
      "source": [
        "q = [111,222,333,444,555,666]\n",
        "for i in q:\n",
        "  print(i)"
      ],
      "metadata": {
        "colab": {
          "base_uri": "https://localhost:8080/"
        },
        "id": "Sn-f0aXeHA-C",
        "outputId": "4c6554e1-9462-4db7-d9c2-3151a2f85b43"
      },
      "execution_count": null,
      "outputs": [
        {
          "output_type": "stream",
          "name": "stdout",
          "text": [
            "111\n",
            "222\n",
            "333\n",
            "444\n",
            "555\n",
            "666\n"
          ]
        }
      ]
    },
    {
      "cell_type": "code",
      "source": [
        "m = [0,11,22,33,44,55]\n",
        "print(55 in m)\n",
        "print(2 in m)"
      ],
      "metadata": {
        "colab": {
          "base_uri": "https://localhost:8080/"
        },
        "id": "j72ITSC0FuXX",
        "outputId": "ad583373-c2e3-4e11-e7d6-52ae498c8808"
      },
      "execution_count": null,
      "outputs": [
        {
          "output_type": "stream",
          "name": "stdout",
          "text": [
            "True\n",
            "False\n"
          ]
        }
      ]
    },
    {
      "cell_type": "code",
      "source": [
        "c = [0,00,000,0000,1,11,111,1111]\n",
        "c.count(0)"
      ],
      "metadata": {
        "colab": {
          "base_uri": "https://localhost:8080/"
        },
        "id": "p8MoqbFBFdQz",
        "outputId": "9a765f9e-d3b1-4234-fbd0-62fe86b5506e"
      },
      "execution_count": null,
      "outputs": [
        {
          "output_type": "execute_result",
          "data": {
            "text/plain": [
              "4"
            ]
          },
          "metadata": {},
          "execution_count": 36
        }
      ]
    },
    {
      "cell_type": "code",
      "source": [
        "r = [111,222,333,444,554]\n",
        "r.remove(554)\n",
        "print(r)"
      ],
      "metadata": {
        "colab": {
          "base_uri": "https://localhost:8080/"
        },
        "id": "0UgIHGiZFCoH",
        "outputId": "5e0126d1-de63-4401-d23d-c6809e1f0221"
      },
      "execution_count": null,
      "outputs": [
        {
          "output_type": "stream",
          "name": "stdout",
          "text": [
            "[111, 222, 333, 444]\n"
          ]
        }
      ]
    },
    {
      "cell_type": "code",
      "source": [
        "p = [1,2,3,4,5,7]\n",
        "p.pop()\n",
        "print(p)\n",
        "p.pop(0)\n",
        "print(p)"
      ],
      "metadata": {
        "colab": {
          "base_uri": "https://localhost:8080/"
        },
        "id": "QwurBlLbEUVG",
        "outputId": "7108ab4c-3565-4c72-d783-febdd3139bf2"
      },
      "execution_count": null,
      "outputs": [
        {
          "output_type": "stream",
          "name": "stdout",
          "text": [
            "[1, 2, 3, 4, 5]\n",
            "[2, 3, 4, 5]\n"
          ]
        }
      ]
    },
    {
      "cell_type": "code",
      "source": [
        "m1 = [1,2,3]\n",
        "m2 = [4,5,6]\n",
        "m3 = m1.append(m2)\n",
        "print(m1)"
      ],
      "metadata": {
        "colab": {
          "base_uri": "https://localhost:8080/"
        },
        "id": "c9NSNS6nDEqg",
        "outputId": "444a791e-4f23-4567-f7d4-1a5d51d66c6d"
      },
      "execution_count": null,
      "outputs": [
        {
          "output_type": "stream",
          "name": "stdout",
          "text": [
            "[1, 2, 3, [4, 5, 6]]\n"
          ]
        }
      ]
    },
    {
      "cell_type": "code",
      "source": [
        "l1 = [12,13,14]\n",
        "l2 = [15,16,17]\n",
        "l3 = l1 + l2\n",
        "print(l3)\n",
        "print(l1)\n",
        "print(l2)"
      ],
      "metadata": {
        "colab": {
          "base_uri": "https://localhost:8080/"
        },
        "id": "LSMAnBPHCw6x",
        "outputId": "761bb654-2707-44a5-8638-cb25c63b0315"
      },
      "execution_count": null,
      "outputs": [
        {
          "output_type": "stream",
          "name": "stdout",
          "text": [
            "[12, 13, 14, 15, 16, 17]\n",
            "[12, 13, 14]\n",
            "[15, 16, 17]\n"
          ]
        }
      ]
    },
    {
      "cell_type": "code",
      "source": [
        "z = [14,15,16]\n",
        "y = [11,12,13]\n",
        "y.extend(z)\n",
        "print(y)"
      ],
      "metadata": {
        "colab": {
          "base_uri": "https://localhost:8080/"
        },
        "id": "4lUuX_ydCN0H",
        "outputId": "6d764796-d1aa-4475-cc2a-56343bcbad65"
      },
      "execution_count": null,
      "outputs": [
        {
          "output_type": "stream",
          "name": "stdout",
          "text": [
            "[11, 12, 13, 14, 15, 16]\n"
          ]
        }
      ]
    },
    {
      "cell_type": "code",
      "source": [
        "x = [0,2,3,4]\n",
        "x.insert(1,1)\n",
        "print(x)"
      ],
      "metadata": {
        "colab": {
          "base_uri": "https://localhost:8080/"
        },
        "id": "PTgWeNl5AsxU",
        "outputId": "5ecfa05e-76a3-44a0-a917-e77d5a9762ae"
      },
      "execution_count": null,
      "outputs": [
        {
          "output_type": "stream",
          "name": "stdout",
          "text": [
            "[0, 1, 2, 3, 4]\n"
          ]
        }
      ]
    },
    {
      "cell_type": "code",
      "source": [
        "num = [11,12,13]\n",
        "num.append(14)\n",
        "print(num)"
      ],
      "metadata": {
        "colab": {
          "base_uri": "https://localhost:8080/"
        },
        "id": "FJFYx4sbAbj4",
        "outputId": "b08684ac-e59d-4dbf-9bfd-e0c79726fc88"
      },
      "execution_count": null,
      "outputs": [
        {
          "output_type": "stream",
          "name": "stdout",
          "text": [
            "[11, 12, 13, 14]\n"
          ]
        }
      ]
    },
    {
      "cell_type": "code",
      "source": [
        "nums = [11,12,13,14,15,16,17,18,19,110]\n",
        "print(type(nums))\n",
        "print(len(nums))\n",
        "print(nums[6])\n",
        "print(nums[-1])"
      ],
      "metadata": {
        "id": "vEIOyBz6h7zM",
        "colab": {
          "base_uri": "https://localhost:8080/"
        },
        "outputId": "b660ae82-c3e3-4304-fcd2-19f0c34bdade"
      },
      "execution_count": null,
      "outputs": [
        {
          "output_type": "stream",
          "name": "stdout",
          "text": [
            "<class 'list'>\n",
            "10\n",
            "17\n",
            "110\n"
          ]
        }
      ]
    },
    {
      "cell_type": "markdown",
      "source": [
        "# **Functions**"
      ],
      "metadata": {
        "id": "URXJIg2VaZTP"
      }
    },
    {
      "cell_type": "code",
      "source": [
        "#Lamda Functions\n",
        "random = lambda x,y,z:x+y+z\n",
        "random(5,5,7)"
      ],
      "metadata": {
        "colab": {
          "base_uri": "https://localhost:8080/"
        },
        "id": "2PbpA3jdpd6W",
        "outputId": "fc61897e-8004-4ce7-8799-ac940736fc96"
      },
      "execution_count": null,
      "outputs": [
        {
          "output_type": "execute_result",
          "data": {
            "text/plain": [
              "17"
            ]
          },
          "metadata": {},
          "execution_count": 18
        }
      ]
    },
    {
      "cell_type": "code",
      "source": [
        "def road_tax(price):\n",
        "    tax = None\n",
        "    # YOUR CODE GOES HERE\n",
        "    if price > 100000:\n",
        "        tax = 20/100*price\n",
        "        print(tax)\n",
        "    elif price>75001 and price<=100000:\n",
        "         tax = 15/100*price\n",
        "         print(tax)\n",
        "    elif price>50000 and price<=75000:\n",
        "         tax = 10/100*price\n",
        "         print(tax)\n",
        "    else:\n",
        "        tax = 5/100*price\n",
        "        print(tax)\n",
        "\n",
        "    return round(tax,1)"
      ],
      "metadata": {
        "id": "r-70KX8pnsT0"
      },
      "execution_count": null,
      "outputs": []
    },
    {
      "cell_type": "code",
      "source": [
        "def sum_squares(n):\n",
        "    m = int((n*(n+1)*(2*n+1))/6)\n",
        "    return m"
      ],
      "metadata": {
        "id": "KyiEWLwUk-8g"
      },
      "execution_count": null,
      "outputs": []
    },
    {
      "cell_type": "code",
      "source": [
        "temp = float(input())\n",
        "def convertingTemptoFah(temp):\n",
        "    formulaToConvert = (9/5*temp) + 32\n",
        "    rounded = round(formulaToConvert,2)\n",
        "    print(rounded)\n",
        "convertingTemptoFah(temp)"
      ],
      "metadata": {
        "colab": {
          "base_uri": "https://localhost:8080/"
        },
        "id": "mvs6ti5qjztF",
        "outputId": "b561e0be-fa22-4946-af6f-dc16b4c8a9f3"
      },
      "execution_count": null,
      "outputs": [
        {
          "output_type": "stream",
          "name": "stdout",
          "text": [
            "1\n",
            "33.8\n"
          ]
        }
      ]
    },
    {
      "cell_type": "code",
      "source": [
        "x = \"global\"\n",
        "def foo():\n",
        "    global x\n",
        "    print(x, end=\",\")\n",
        "    x = \"local\"\n",
        "    print(x, end=\",\")\n",
        "\n",
        "foo()\n",
        "print(x, end=\"\")"
      ],
      "metadata": {
        "colab": {
          "base_uri": "https://localhost:8080/"
        },
        "id": "bshdwc11hPps",
        "outputId": "8ba12b90-056f-4ad0-b410-e4f1fbca92c8"
      },
      "execution_count": null,
      "outputs": [
        {
          "output_type": "stream",
          "name": "stdout",
          "text": [
            "global,local,local"
          ]
        }
      ]
    },
    {
      "cell_type": "code",
      "source": [
        "#Positional Arguments\n",
        "def family(mom,dad,sis):\n",
        "  print('my mom is', mom)\n",
        "  print('my dad is', dad)\n",
        "  print('my sis is', sis)\n",
        "family('Anu','Padma','TVS')"
      ],
      "metadata": {
        "colab": {
          "base_uri": "https://localhost:8080/"
        },
        "id": "usUMHk3ge9Vb",
        "outputId": "b95dd317-a219-411d-f921-f0c5e5bd0dc5"
      },
      "execution_count": null,
      "outputs": [
        {
          "output_type": "stream",
          "name": "stdout",
          "text": [
            "my mom is Anu\n",
            "my dad is Padma\n",
            "my sis is TVS\n"
          ]
        }
      ]
    },
    {
      "cell_type": "code",
      "source": [
        "def passport(name,Nationality='Indian'):\n",
        "  print('Name is', name)\n",
        "  print('Nationality is', Nationality)\n",
        "passport('Anil')\n",
        "passport('Anil','US')"
      ],
      "metadata": {
        "colab": {
          "base_uri": "https://localhost:8080/"
        },
        "id": "bZYO4VFVgFGq",
        "outputId": "b925cbd4-9639-4cb9-e4bb-a1f0739b410b"
      },
      "execution_count": null,
      "outputs": [
        {
          "output_type": "stream",
          "name": "stdout",
          "text": [
            "Name is Anil\n",
            "Nationality is Indian\n",
            "Name is Anil\n",
            "Nationality is US\n"
          ]
        }
      ]
    },
    {
      "cell_type": "code",
      "source": [
        "#Keyword Arguments\n",
        "def family(mom,dad,sis):\n",
        "  print('my mom is', mom)\n",
        "  print('my dad is', dad)\n",
        "  print('my sis is', sis)\n",
        "family(sis='Anu',mom='Padma',dad='TVS')"
      ],
      "metadata": {
        "colab": {
          "base_uri": "https://localhost:8080/"
        },
        "id": "ROXsIq1Efe15",
        "outputId": "5d30e6dc-1ac5-4b0c-dfe5-b9dd6485e364"
      },
      "execution_count": null,
      "outputs": [
        {
          "output_type": "stream",
          "name": "stdout",
          "text": [
            "my mom is Padma\n",
            "my dad is TVS\n",
            "my sis is Anu\n"
          ]
        }
      ]
    },
    {
      "cell_type": "code",
      "source": [
        "def abc():\n",
        "  print('Awesome!!')\n",
        "  return 9 + 9\n",
        "  print('I am not executed')\n",
        "abc()"
      ],
      "metadata": {
        "colab": {
          "base_uri": "https://localhost:8080/"
        },
        "id": "pOfIKNpsed3K",
        "outputId": "f5116da9-4354-4bc1-924d-ed0db0f74fc8"
      },
      "execution_count": null,
      "outputs": [
        {
          "output_type": "stream",
          "name": "stdout",
          "text": [
            "Awesome!!\n"
          ]
        },
        {
          "output_type": "execute_result",
          "data": {
            "text/plain": [
              "18"
            ]
          },
          "metadata": {},
          "execution_count": 4
        }
      ]
    },
    {
      "cell_type": "code",
      "source": [
        "def add_func(a,b):\n",
        "  print(a+b)\n",
        "add_func(1,2)"
      ],
      "metadata": {
        "colab": {
          "base_uri": "https://localhost:8080/"
        },
        "id": "4hvoxma1dGko",
        "outputId": "2d82d418-5a38-46b6-bb5a-8fe98df30cf8"
      },
      "execution_count": null,
      "outputs": [
        {
          "output_type": "stream",
          "name": "stdout",
          "text": [
            "3\n"
          ]
        }
      ]
    },
    {
      "cell_type": "code",
      "source": [
        "def name(name):\n",
        "  print('my name is ', name)\n",
        "name('Anil Simha')"
      ],
      "metadata": {
        "colab": {
          "base_uri": "https://localhost:8080/"
        },
        "id": "ZwVj0XwxagD_",
        "outputId": "b481bae4-62f4-4ca8-8a6e-06a4afdd41c8"
      },
      "execution_count": null,
      "outputs": [
        {
          "output_type": "stream",
          "name": "stdout",
          "text": [
            "my name is  Anil Simha\n"
          ]
        }
      ]
    },
    {
      "cell_type": "markdown",
      "source": [
        "1. **GCD**\n",
        "2. **HCF**\n",
        "3. **LCM**\n",
        "\n",
        "- Heighest Common Factor\n",
        "- Greatest Common Divisor\n",
        "- Least Common Multiple"
      ],
      "metadata": {
        "id": "mInAwwW7wVw8"
      }
    },
    {
      "cell_type": "code",
      "source": [
        "A = int(input())\n",
        "B = int(input())\n",
        "n = min(A,B)\n",
        "\n",
        "for i in range(n, 0,-1):\n",
        "  if A % i == 0 and B % i == 0:\n",
        "          print(i)"
      ],
      "metadata": {
        "colab": {
          "base_uri": "https://localhost:8080/"
        },
        "id": "zPzeA08w0K3M",
        "outputId": "935d31f5-ca28-491c-960f-8ed652ab0738"
      },
      "execution_count": null,
      "outputs": [
        {
          "output_type": "stream",
          "name": "stdout",
          "text": [
            "5\n",
            "10\n",
            "5\n",
            "1\n"
          ]
        }
      ]
    },
    {
      "cell_type": "code",
      "source": [
        "A = int(input())\n",
        "B = int(input())\n",
        "n = min(A,B)\n",
        "\n",
        "for i in range(1, n+1):\n",
        "  if A % i == 0 and B % i == 0:\n",
        "          print(i)"
      ],
      "metadata": {
        "colab": {
          "base_uri": "https://localhost:8080/"
        },
        "id": "Iq0KJYIQy0X6",
        "outputId": "a4eecbc2-6ed9-429a-ac21-cacfc45c1a12"
      },
      "execution_count": null,
      "outputs": [
        {
          "output_type": "stream",
          "name": "stdout",
          "text": [
            "5\n",
            "10\n",
            "1\n",
            "5\n"
          ]
        }
      ]
    },
    {
      "cell_type": "code",
      "source": [
        "A = int(input())\n",
        "for i in range(1, A+1):\n",
        "  if A %i  == 0:\n",
        "    print(i)"
      ],
      "metadata": {
        "colab": {
          "base_uri": "https://localhost:8080/"
        },
        "id": "9VC3P-UWxoe1",
        "outputId": "67398633-b105-4a89-a9d7-6bdb148b8860"
      },
      "execution_count": null,
      "outputs": [
        {
          "output_type": "stream",
          "name": "stdout",
          "text": [
            "8\n",
            "1\n",
            "2\n",
            "4\n",
            "8\n"
          ]
        }
      ]
    },
    {
      "cell_type": "code",
      "source": [
        "#GCD\n",
        "\n",
        "print(min(1,5,3,6,0))"
      ],
      "metadata": {
        "colab": {
          "base_uri": "https://localhost:8080/"
        },
        "id": "082rhCr-xeHQ",
        "outputId": "3c0f550b-e2e4-46f1-c772-7124b7d4c1ce"
      },
      "execution_count": null,
      "outputs": [
        {
          "output_type": "stream",
          "name": "stdout",
          "text": [
            "0\n"
          ]
        }
      ]
    },
    {
      "cell_type": "markdown",
      "source": [
        "# **Nested Loops**"
      ],
      "metadata": {
        "id": "ppYlhiMX9QKq"
      }
    },
    {
      "cell_type": "code",
      "source": [
        "for i in range(1,4):\n",
        "    for j in range(i):\n",
        "        print(\"*\", end=\" \")\n",
        "    print()"
      ],
      "metadata": {
        "colab": {
          "base_uri": "https://localhost:8080/"
        },
        "id": "5wko00BLP03N",
        "outputId": "c0aedf42-b570-4f35-c135-4660d52e2fe3"
      },
      "execution_count": null,
      "outputs": [
        {
          "output_type": "stream",
          "name": "stdout",
          "text": [
            "* \n",
            "* * \n",
            "* * * \n"
          ]
        }
      ]
    },
    {
      "cell_type": "code",
      "source": [
        "for i in range(3):\n",
        "    for j in range(i, 3):\n",
        "        print(\"*\", end=\" \")\n",
        "    print()"
      ],
      "metadata": {
        "colab": {
          "base_uri": "https://localhost:8080/"
        },
        "id": "Mi94ZxSeNzGF",
        "outputId": "273955d5-d434-4f99-e635-fd6e6f3e6997"
      },
      "execution_count": null,
      "outputs": [
        {
          "output_type": "stream",
          "name": "stdout",
          "text": [
            "* * * \n",
            "* * \n",
            "* \n"
          ]
        }
      ]
    },
    {
      "cell_type": "code",
      "source": [
        "for row in range(5):\n",
        "  for col in range(2):\n",
        "    print(\"#\", end= ' ')\n",
        "  print()"
      ],
      "metadata": {
        "colab": {
          "base_uri": "https://localhost:8080/"
        },
        "id": "I8H5tvznM6Kk",
        "outputId": "32f13093-24f7-4031-e01f-c2879ab86882"
      },
      "execution_count": null,
      "outputs": [
        {
          "output_type": "stream",
          "name": "stdout",
          "text": [
            "# # \n",
            "# # \n",
            "# # \n",
            "# # \n",
            "# # \n"
          ]
        }
      ]
    },
    {
      "cell_type": "code",
      "source": [
        "for i in range(4):\n",
        "  for i in range(4):\n",
        "    print(\"#\", end= ' ')\n",
        "  print()"
      ],
      "metadata": {
        "colab": {
          "base_uri": "https://localhost:8080/"
        },
        "id": "J-vdtWUGMS_T",
        "outputId": "c7079b96-a389-4331-be2e-c04f787fa78d"
      },
      "execution_count": null,
      "outputs": [
        {
          "output_type": "stream",
          "name": "stdout",
          "text": [
            "# # # # \n",
            "# # # # \n",
            "# # # # \n",
            "# # # # \n"
          ]
        }
      ]
    },
    {
      "cell_type": "markdown",
      "source": [
        "**Jump Statements**\n",
        "1. Pass\n",
        "2. Continue\n",
        "3. Break"
      ],
      "metadata": {
        "id": "FQkagsDSAacT"
      }
    },
    {
      "cell_type": "code",
      "source": [
        "count = 0\n",
        "while True:\n",
        "  count += 1\n",
        "  n = int(input())\n",
        "  if n == 5:\n",
        "      break\n",
        "print(\"no.of Inputs\", count)"
      ],
      "metadata": {
        "colab": {
          "base_uri": "https://localhost:8080/"
        },
        "id": "iwSnYKHDKRmF",
        "outputId": "5af16d98-5b60-4d90-96d4-9c0c9c73cfa9"
      },
      "execution_count": null,
      "outputs": [
        {
          "output_type": "stream",
          "name": "stdout",
          "text": [
            "1\n",
            "1\n",
            "1\n",
            "1\n",
            "1\n",
            "5\n",
            "no.of Inputs 6\n"
          ]
        }
      ]
    },
    {
      "cell_type": "code",
      "source": [
        "for i in range(10):\n",
        "  if i == 3:\n",
        "    break\n",
        "  print(i)"
      ],
      "metadata": {
        "colab": {
          "base_uri": "https://localhost:8080/"
        },
        "id": "M5vk79F_HUF3",
        "outputId": "44b6c59d-6b34-4144-a18f-888b95d9fdef"
      },
      "execution_count": null,
      "outputs": [
        {
          "output_type": "stream",
          "name": "stdout",
          "text": [
            "0\n",
            "1\n",
            "2\n"
          ]
        }
      ]
    },
    {
      "cell_type": "code",
      "source": [
        "for i in range(10):\n",
        "  if i == 3:\n",
        "    continue\n",
        "  print(i)"
      ],
      "metadata": {
        "colab": {
          "base_uri": "https://localhost:8080/"
        },
        "id": "fHpc_StGCJGA",
        "outputId": "6d9bacdc-a064-4f1d-8170-0da636182caa"
      },
      "execution_count": null,
      "outputs": [
        {
          "output_type": "stream",
          "name": "stdout",
          "text": [
            "0\n",
            "1\n",
            "2\n",
            "4\n",
            "5\n",
            "6\n",
            "7\n",
            "8\n",
            "9\n"
          ]
        }
      ]
    },
    {
      "cell_type": "code",
      "source": [
        "for i in range(3):\n",
        "  pass\n",
        "  print(i)"
      ],
      "metadata": {
        "colab": {
          "base_uri": "https://localhost:8080/"
        },
        "id": "rAktBwjTAgZb",
        "outputId": "96301424-24fe-4009-d885-9be151528aa1"
      },
      "execution_count": null,
      "outputs": [
        {
          "output_type": "stream",
          "name": "stdout",
          "text": [
            "0\n",
            "1\n",
            "2\n"
          ]
        }
      ]
    },
    {
      "cell_type": "code",
      "source": [
        "n = int(input())\n",
        "for i in range(1,n,3):\n",
        "  print(i, end=' ')"
      ],
      "metadata": {
        "colab": {
          "base_uri": "https://localhost:8080/"
        },
        "id": "HvfgUvvR-0vt",
        "outputId": "a453ca29-2a5d-4272-c194-f5a541ad486e"
      },
      "execution_count": null,
      "outputs": [
        {
          "output_type": "stream",
          "name": "stdout",
          "text": [
            "20\n",
            "1 4 7 10 13 16 19 "
          ]
        }
      ]
    },
    {
      "cell_type": "code",
      "source": [
        "n = int(input())\n",
        "for i in range(n):\n",
        "  if i == n:\n",
        "    print(\"#\")\n",
        "  else:\n",
        "    print('#', end=' ')"
      ],
      "metadata": {
        "colab": {
          "base_uri": "https://localhost:8080/"
        },
        "id": "J4egM9JX-DfS",
        "outputId": "9a9b10e9-7f43-4c0e-93ba-dcfd6b68bdf7"
      },
      "execution_count": null,
      "outputs": [
        {
          "output_type": "stream",
          "name": "stdout",
          "text": [
            "3\n",
            "# # # "
          ]
        }
      ]
    },
    {
      "cell_type": "code",
      "source": [
        "for i in range(4):\n",
        "  print('#',  end=' ')"
      ],
      "metadata": {
        "colab": {
          "base_uri": "https://localhost:8080/"
        },
        "id": "4BT6agje9U0Q",
        "outputId": "34c26325-ae30-4b28-cca7-58e36df17263"
      },
      "execution_count": null,
      "outputs": [
        {
          "output_type": "stream",
          "name": "stdout",
          "text": [
            "# # # # "
          ]
        }
      ]
    },
    {
      "cell_type": "markdown",
      "source": [
        "# **Loops**\n",
        "1. While\n",
        "2. For"
      ],
      "metadata": {
        "id": "vLHN-6Th5BmF"
      }
    },
    {
      "cell_type": "markdown",
      "source": [
        "**For Loop**"
      ],
      "metadata": {
        "id": "MtAiwRLB4_D1"
      }
    },
    {
      "cell_type": "code",
      "source": [
        "for i in range(1,11):\n",
        "  if i%2 != 0:\n",
        "    print(i)"
      ],
      "metadata": {
        "colab": {
          "base_uri": "https://localhost:8080/"
        },
        "id": "X42CuzmH93ym",
        "outputId": "614f58d6-2116-42a0-8133-21003b5f261f"
      },
      "execution_count": null,
      "outputs": [
        {
          "output_type": "stream",
          "name": "stdout",
          "text": [
            "1\n",
            "3\n",
            "5\n",
            "7\n",
            "9\n"
          ]
        }
      ]
    },
    {
      "cell_type": "code",
      "source": [
        "for i in range(1,11):\n",
        "  if i%2 == 0:\n",
        "    print(i)"
      ],
      "metadata": {
        "colab": {
          "base_uri": "https://localhost:8080/"
        },
        "id": "TXbae34L9sOw",
        "outputId": "bb3305c7-20a9-4db6-8aa4-c61050004957"
      },
      "execution_count": null,
      "outputs": [
        {
          "output_type": "stream",
          "name": "stdout",
          "text": [
            "2\n",
            "4\n",
            "6\n",
            "8\n",
            "10\n"
          ]
        }
      ]
    },
    {
      "cell_type": "code",
      "source": [
        "for i in range(1,11,2):\n",
        "  print(i)"
      ],
      "metadata": {
        "colab": {
          "base_uri": "https://localhost:8080/"
        },
        "id": "5sIkRRKf9fvA",
        "outputId": "95cbe399-9dda-4ffb-b92a-904c7a2ece1e"
      },
      "execution_count": null,
      "outputs": [
        {
          "output_type": "stream",
          "name": "stdout",
          "text": [
            "1\n",
            "3\n",
            "5\n",
            "7\n",
            "9\n"
          ]
        }
      ]
    },
    {
      "cell_type": "code",
      "source": [
        "num = int(input())\n",
        "for i in range(num,0,-1):\n",
        "  print(i, end=' ')"
      ],
      "metadata": {
        "colab": {
          "base_uri": "https://localhost:8080/"
        },
        "id": "41bBICMZ8koB",
        "outputId": "a162dfb9-0dc7-48ca-88f0-42e060a5f1bb"
      },
      "execution_count": null,
      "outputs": [
        {
          "output_type": "stream",
          "name": "stdout",
          "text": [
            "14\n",
            "14 13 12 11 10 9 8 7 6 5 4 3 2 1 "
          ]
        }
      ]
    },
    {
      "cell_type": "code",
      "source": [
        "N = int(input())\n",
        "total = 0\n",
        "for i in range(1,N+1):\n",
        "  total += i\n",
        "print(total)"
      ],
      "metadata": {
        "colab": {
          "base_uri": "https://localhost:8080/"
        },
        "id": "EahqU1id8PPU",
        "outputId": "2299615a-205a-4593-8752-19a91407e7f0"
      },
      "execution_count": null,
      "outputs": [
        {
          "output_type": "stream",
          "name": "stdout",
          "text": [
            "10\n",
            "55\n"
          ]
        }
      ]
    },
    {
      "cell_type": "code",
      "source": [
        "for i in range(1,11):\n",
        "  print(i)"
      ],
      "metadata": {
        "colab": {
          "base_uri": "https://localhost:8080/"
        },
        "id": "dQBDr6Sd7zt3",
        "outputId": "b7bff088-44ad-4035-80ec-a689bad5bcc2"
      },
      "execution_count": null,
      "outputs": [
        {
          "output_type": "stream",
          "name": "stdout",
          "text": [
            "0\n",
            "1\n",
            "2\n",
            "3\n",
            "4\n",
            "5\n",
            "6\n",
            "7\n",
            "8\n",
            "9\n",
            "10\n"
          ]
        }
      ]
    },
    {
      "cell_type": "code",
      "source": [
        "for i in range(1,11,1):\n",
        "  print(i)"
      ],
      "metadata": {
        "colab": {
          "base_uri": "https://localhost:8080/"
        },
        "id": "3SkLM2Bk7jR8",
        "outputId": "5ce9950a-3ce5-4edd-d43f-18f49d8abe85"
      },
      "execution_count": null,
      "outputs": [
        {
          "output_type": "stream",
          "name": "stdout",
          "text": [
            "1\n",
            "2\n",
            "3\n",
            "4\n",
            "5\n",
            "6\n",
            "7\n",
            "8\n",
            "9\n",
            "10\n"
          ]
        }
      ]
    },
    {
      "cell_type": "code",
      "source": [
        "list(range(5))"
      ],
      "metadata": {
        "colab": {
          "base_uri": "https://localhost:8080/"
        },
        "id": "eTHuGH1U5DFP",
        "outputId": "7600675a-037d-47a3-c6ff-083086fa5c9c"
      },
      "execution_count": null,
      "outputs": [
        {
          "output_type": "execute_result",
          "data": {
            "text/plain": [
              "[0, 1, 2, 3, 4]"
            ]
          },
          "metadata": {},
          "execution_count": 1
        }
      ]
    },
    {
      "cell_type": "code",
      "source": [
        "list(range(1,5))"
      ],
      "metadata": {
        "colab": {
          "base_uri": "https://localhost:8080/"
        },
        "id": "y4zKr9y76-hk",
        "outputId": "b29ea8fb-5b9d-4231-fc48-71732ed2f057"
      },
      "execution_count": null,
      "outputs": [
        {
          "output_type": "execute_result",
          "data": {
            "text/plain": [
              "[1, 2, 3, 4]"
            ]
          },
          "metadata": {},
          "execution_count": 2
        }
      ]
    },
    {
      "cell_type": "code",
      "source": [
        "list(range(1,5,1))"
      ],
      "metadata": {
        "colab": {
          "base_uri": "https://localhost:8080/"
        },
        "id": "ktklynpJ7DLz",
        "outputId": "655ef76a-f9a9-4257-d3b9-b59d30b5ff4c"
      },
      "execution_count": null,
      "outputs": [
        {
          "output_type": "execute_result",
          "data": {
            "text/plain": [
              "[1, 2, 3, 4]"
            ]
          },
          "metadata": {},
          "execution_count": 3
        }
      ]
    },
    {
      "cell_type": "code",
      "source": [
        "list(range(1,3,2))"
      ],
      "metadata": {
        "colab": {
          "base_uri": "https://localhost:8080/"
        },
        "id": "fHmL22Ab7HFg",
        "outputId": "2d4d271d-97d7-4d4a-b122-ceba1d9ea858"
      },
      "execution_count": null,
      "outputs": [
        {
          "output_type": "execute_result",
          "data": {
            "text/plain": [
              "[1]"
            ]
          },
          "metadata": {},
          "execution_count": 4
        }
      ]
    },
    {
      "cell_type": "code",
      "source": [
        "list(range(10,2,-1))"
      ],
      "metadata": {
        "colab": {
          "base_uri": "https://localhost:8080/"
        },
        "id": "IcKH929O7ME4",
        "outputId": "593d54ce-7f9b-45ca-95ba-5cebe25a1c2c"
      },
      "execution_count": null,
      "outputs": [
        {
          "output_type": "execute_result",
          "data": {
            "text/plain": [
              "[10, 9, 8, 7, 6, 5, 4, 3]"
            ]
          },
          "metadata": {},
          "execution_count": 5
        }
      ]
    },
    {
      "cell_type": "markdown",
      "source": [
        "**While Loop**"
      ],
      "metadata": {
        "id": "nU6_6GFV41Ne"
      }
    },
    {
      "cell_type": "code",
      "source": [
        "n = int(input())\n",
        "start = n\n",
        "while start <= n * 10:\n",
        "  print(start)\n",
        "  start += n"
      ],
      "metadata": {
        "colab": {
          "base_uri": "https://localhost:8080/"
        },
        "id": "Az874KA4-8S2",
        "outputId": "71d93b6c-7660-45b9-9bc3-583031eb4491"
      },
      "execution_count": null,
      "outputs": [
        {
          "output_type": "stream",
          "name": "stdout",
          "text": [
            "7\n",
            "7\n",
            "14\n",
            "21\n",
            "28\n",
            "35\n",
            "42\n",
            "49\n",
            "56\n",
            "63\n",
            "70\n"
          ]
        }
      ]
    },
    {
      "cell_type": "code",
      "source": [
        "i = 1\n",
        "while i <=10:\n",
        "  print(i, end=' ')\n",
        "  i += 1"
      ],
      "metadata": {
        "colab": {
          "base_uri": "https://localhost:8080/"
        },
        "id": "1WUy09H3-MWE",
        "outputId": "a4fdba6e-f0e9-41af-ef88-85d545da89a4"
      },
      "execution_count": null,
      "outputs": [
        {
          "output_type": "stream",
          "name": "stdout",
          "text": [
            "1 2 3 4 5 6 7 8 9 10 "
          ]
        }
      ]
    },
    {
      "cell_type": "code",
      "source": [
        "i = 1\n",
        "while i<=10:\n",
        "  if i% 2 !=0:\n",
        "    print(i)\n",
        "  i += 1"
      ],
      "metadata": {
        "colab": {
          "base_uri": "https://localhost:8080/"
        },
        "id": "ds8-DzyX94xU",
        "outputId": "761c78ce-5cc3-44bf-c093-e1927b645c8e"
      },
      "execution_count": null,
      "outputs": [
        {
          "output_type": "stream",
          "name": "stdout",
          "text": [
            "1\n",
            "3\n",
            "5\n",
            "7\n",
            "9\n"
          ]
        }
      ]
    },
    {
      "cell_type": "code",
      "source": [
        "i = 2\n",
        "while i <=10:\n",
        "  if (i % 2 == 0):\n",
        "    print(i)\n",
        "  i += 1"
      ],
      "metadata": {
        "colab": {
          "base_uri": "https://localhost:8080/"
        },
        "id": "Rn2Y6CwK9IOe",
        "outputId": "3b660dd3-b2c6-45ab-bc69-9d698a327a20"
      },
      "execution_count": null,
      "outputs": [
        {
          "output_type": "stream",
          "name": "stdout",
          "text": [
            "2\n",
            "4\n",
            "6\n",
            "8\n",
            "10\n"
          ]
        }
      ]
    },
    {
      "cell_type": "code",
      "source": [
        "i = 10\n",
        "while i >= 1:\n",
        "  print(i)\n",
        "  i -= 1"
      ],
      "metadata": {
        "colab": {
          "base_uri": "https://localhost:8080/"
        },
        "id": "sxZfkOAm8smw",
        "outputId": "0512edd8-dd25-411d-8279-223ccd01f57e"
      },
      "execution_count": null,
      "outputs": [
        {
          "output_type": "stream",
          "name": "stdout",
          "text": [
            "10\n",
            "9\n",
            "8\n",
            "7\n",
            "6\n",
            "5\n",
            "4\n",
            "3\n",
            "2\n",
            "1\n"
          ]
        }
      ]
    },
    {
      "cell_type": "code",
      "source": [
        "i = 1\n",
        "while i <= 10:\n",
        "  print(i)\n",
        "  i += 1"
      ],
      "metadata": {
        "colab": {
          "base_uri": "https://localhost:8080/"
        },
        "id": "T9XOyKOc8a9W",
        "outputId": "e5702fd9-69a2-45cb-e9bb-265fd03c5d30"
      },
      "execution_count": null,
      "outputs": [
        {
          "output_type": "stream",
          "name": "stdout",
          "text": [
            "1\n",
            "2\n",
            "3\n",
            "4\n",
            "5\n",
            "6\n",
            "7\n",
            "8\n",
            "9\n",
            "10\n"
          ]
        }
      ]
    },
    {
      "cell_type": "code",
      "source": [
        "i = 0\n",
        "while i <5:\n",
        "  print(\"Shots\")\n",
        "  i += 1"
      ],
      "metadata": {
        "colab": {
          "base_uri": "https://localhost:8080/"
        },
        "id": "LVqO0psp5WTN",
        "outputId": "23851059-200d-48ee-c70a-fee90f24218f"
      },
      "execution_count": null,
      "outputs": [
        {
          "output_type": "stream",
          "name": "stdout",
          "text": [
            "Shots\n",
            "Shots\n",
            "Shots\n",
            "Shots\n",
            "Shots\n"
          ]
        }
      ]
    },
    {
      "cell_type": "markdown",
      "source": [
        "# **Control Statements**"
      ],
      "metadata": {
        "id": "AeyROlJnkbRf"
      }
    },
    {
      "cell_type": "code",
      "source": [
        "n = int(input())\n",
        "if n %3 == 0:\n",
        "  print('Fizz')\n",
        "elif n % 5 == 0:\n",
        "  print('Buzz')\n",
        "elif n % 3 == 0 and n % 5 == 0:\n",
        "  print('FizzBuzz')\n",
        "else:\n",
        "  print(n)"
      ],
      "metadata": {
        "colab": {
          "base_uri": "https://localhost:8080/"
        },
        "id": "wI9p-ukysbPo",
        "outputId": "77761bea-c997-4501-c986-cb9b8a2514f5"
      },
      "execution_count": null,
      "outputs": [
        {
          "output_type": "stream",
          "name": "stdout",
          "text": [
            "66\n",
            "Fizz\n"
          ]
        }
      ]
    },
    {
      "cell_type": "code",
      "source": [
        "signal = input()\n",
        "if signal == 'Red':\n",
        "  print(\"Stop\")\n",
        "elif signal == 'Yellow':\n",
        "  print(\"Get Ready\")\n",
        "elif signal == 'Green':\n",
        "  print(\"Go\")\n",
        "else:\n",
        "  print(\"Invalid Signal\")"
      ],
      "metadata": {
        "colab": {
          "base_uri": "https://localhost:8080/"
        },
        "id": "JWuOZ7u2qcc9",
        "outputId": "36d31076-8642-4764-d603-cc9bb197ad39"
      },
      "execution_count": null,
      "outputs": [
        {
          "output_type": "stream",
          "name": "stdout",
          "text": [
            "red\n",
            "Invalid Signal\n"
          ]
        }
      ]
    },
    {
      "cell_type": "code",
      "source": [
        "num = int(input())\n",
        "if num %2 == 0:\n",
        "  print(\"Even\")\n",
        "else:\n",
        "  print(\"Odd\")"
      ],
      "metadata": {
        "colab": {
          "base_uri": "https://localhost:8080/"
        },
        "id": "ZXtgeacko8bT",
        "outputId": "7b24c101-dfeb-41f0-8d4c-944b39cbbc05"
      },
      "execution_count": null,
      "outputs": [
        {
          "output_type": "stream",
          "name": "stdout",
          "text": [
            "2\n",
            "Even\n"
          ]
        }
      ]
    },
    {
      "cell_type": "code",
      "source": [
        "num1 = int(input())\n",
        "num2 = int(input())\n",
        "if num1 > num2:\n",
        "           print(num1, \"is greater than\", num2)\n",
        "else:\n",
        "           print(num2, \"is greater than\", num1)"
      ],
      "metadata": {
        "colab": {
          "base_uri": "https://localhost:8080/"
        },
        "id": "2g6EuNPDocRQ",
        "outputId": "809265bc-443b-4505-830a-c6ed37f5aba8"
      },
      "execution_count": null,
      "outputs": [
        {
          "output_type": "stream",
          "name": "stdout",
          "text": [
            "65\n",
            "75\n",
            "75 is greater than 65\n"
          ]
        }
      ]
    },
    {
      "cell_type": "code",
      "source": [
        "passcode = 'Anil@123'\n",
        "enteredPasscode = input()\n",
        "if enteredPasscode == passcode:\n",
        "  print(\"Access Granted\")\n",
        "else:\n",
        "  print(\"Access Denied\")"
      ],
      "metadata": {
        "colab": {
          "base_uri": "https://localhost:8080/"
        },
        "id": "_RksLFP4oBI1",
        "outputId": "0bcebda2-1f0a-45ee-d9af-3fbc2dfa9eb8"
      },
      "execution_count": null,
      "outputs": [
        {
          "output_type": "stream",
          "name": "stdout",
          "text": [
            "Anil@123\n",
            "Access Granted\n"
          ]
        }
      ]
    },
    {
      "cell_type": "code",
      "source": [
        "number = int(input())\n",
        "if number > 0:\n",
        "  print(\"Number is Positive\")\n",
        "else:\n",
        "  print(\"Number is Negative\")"
      ],
      "metadata": {
        "colab": {
          "base_uri": "https://localhost:8080/"
        },
        "id": "TIp0Bh4DnqRU",
        "outputId": "367bc3ff-02e8-4bc8-b5a9-7019d118305e"
      },
      "execution_count": null,
      "outputs": [
        {
          "output_type": "stream",
          "name": "stdout",
          "text": [
            "-1\n",
            "Number is Negative\n"
          ]
        }
      ]
    },
    {
      "cell_type": "code",
      "source": [
        "weather = input()\n",
        "if weather == 'rainy':\n",
        "  print(\"Trun on Wiper\")\n",
        "else:\n",
        "    print(\"No need to turn on Wiper\")"
      ],
      "metadata": {
        "colab": {
          "base_uri": "https://localhost:8080/"
        },
        "id": "eLDFuYfQkRr6",
        "outputId": "0a383252-fbcb-41c8-fc8c-588be4db4e94"
      },
      "execution_count": null,
      "outputs": [
        {
          "output_type": "stream",
          "name": "stdout",
          "text": [
            "rainy\n",
            "Trun on Wiper\n"
          ]
        }
      ]
    },
    {
      "cell_type": "markdown",
      "source": [
        "# **Operators**"
      ],
      "metadata": {
        "id": "BVqVGXkrBP_0"
      }
    },
    {
      "cell_type": "code",
      "source": [
        "q = 3\n",
        "w = 4\n",
        "print(q + w)"
      ],
      "metadata": {
        "colab": {
          "base_uri": "https://localhost:8080/"
        },
        "id": "1sMBYGmZBas3",
        "outputId": "975ac3b7-a8b0-4ef8-db29-610af51c0c74"
      },
      "execution_count": null,
      "outputs": [
        {
          "output_type": "stream",
          "name": "stdout",
          "text": [
            "7\n"
          ]
        }
      ]
    },
    {
      "cell_type": "code",
      "source": [
        "print(w-q)\n",
        "print(q-w)\n",
        "print(q-2.9)\n",
        "print(\"Anil\" + ' '+ \"Simha\")"
      ],
      "metadata": {
        "colab": {
          "base_uri": "https://localhost:8080/"
        },
        "id": "THxVjGWCEBxF",
        "outputId": "0e445622-63cc-4236-dcab-43d9e667dc6f"
      },
      "execution_count": null,
      "outputs": [
        {
          "output_type": "stream",
          "name": "stdout",
          "text": [
            "1\n",
            "-1\n",
            "0.10000000000000009\n",
            "Anil Simha\n"
          ]
        }
      ]
    },
    {
      "cell_type": "code",
      "source": [
        "print(\"Anil\" - \"Simha\")"
      ],
      "metadata": {
        "colab": {
          "base_uri": "https://localhost:8080/",
          "height": 141
        },
        "id": "Yw0hYQJUEHT0",
        "outputId": "d94da8df-bcf1-4c19-d028-7be20197e14d"
      },
      "execution_count": null,
      "outputs": [
        {
          "output_type": "error",
          "ename": "TypeError",
          "evalue": "unsupported operand type(s) for -: 'str' and 'str'",
          "traceback": [
            "\u001b[0;31m---------------------------------------------------------------------------\u001b[0m",
            "\u001b[0;31mTypeError\u001b[0m                                 Traceback (most recent call last)",
            "\u001b[0;32m/tmp/ipython-input-5-2138985370.py\u001b[0m in \u001b[0;36m<cell line: 0>\u001b[0;34m()\u001b[0m\n\u001b[0;32m----> 1\u001b[0;31m \u001b[0mprint\u001b[0m\u001b[0;34m(\u001b[0m\u001b[0;34m\"Anil\"\u001b[0m \u001b[0;34m-\u001b[0m \u001b[0;34m\"Simha\"\u001b[0m\u001b[0;34m)\u001b[0m\u001b[0;34m\u001b[0m\u001b[0;34m\u001b[0m\u001b[0m\n\u001b[0m",
            "\u001b[0;31mTypeError\u001b[0m: unsupported operand type(s) for -: 'str' and 'str'"
          ]
        }
      ]
    },
    {
      "cell_type": "code",
      "source": [
        "print(2*\"Anil\")"
      ],
      "metadata": {
        "colab": {
          "base_uri": "https://localhost:8080/"
        },
        "id": "hXu8DMAqEPsQ",
        "outputId": "d43734c9-476c-4e4a-dbba-58104dcee60e"
      },
      "execution_count": null,
      "outputs": [
        {
          "output_type": "stream",
          "name": "stdout",
          "text": [
            "AnilAnil\n"
          ]
        }
      ]
    },
    {
      "cell_type": "code",
      "source": [
        "print(q/w)"
      ],
      "metadata": {
        "colab": {
          "base_uri": "https://localhost:8080/"
        },
        "id": "r0bsE_c5EfSC",
        "outputId": "4036d0f1-9746-4c3e-da30-695c2d0fba15"
      },
      "execution_count": null,
      "outputs": [
        {
          "output_type": "stream",
          "name": "stdout",
          "text": [
            "0.75\n"
          ]
        }
      ]
    },
    {
      "cell_type": "code",
      "source": [
        "a = 2\n",
        "b = 3\n",
        "print(a**2)\n",
        "print(a**b)\n",
        "print(b**3)"
      ],
      "metadata": {
        "colab": {
          "base_uri": "https://localhost:8080/"
        },
        "id": "K6HtQlCJEjln",
        "outputId": "138a4425-276f-4704-b4f8-ee9e5ab0fe26"
      },
      "execution_count": null,
      "outputs": [
        {
          "output_type": "stream",
          "name": "stdout",
          "text": [
            "4\n",
            "8\n",
            "27\n"
          ]
        }
      ]
    },
    {
      "cell_type": "code",
      "source": [
        "print(10//2) #Floor\n",
        "print(10/2)\n",
        "print(5//2)\n",
        "print(10//3)\n",
        "print(10/3)\n",
        "print(-10//5)\n",
        "print(-13//4)\n",
        "print(-13/4)\n",
        "print(13//4)\n",
        "print(13/4)"
      ],
      "metadata": {
        "colab": {
          "base_uri": "https://localhost:8080/"
        },
        "id": "N25tYYueKaCo",
        "outputId": "3a4d5fe1-de4b-44a7-8eb6-93d46090fcf6"
      },
      "execution_count": null,
      "outputs": [
        {
          "output_type": "stream",
          "name": "stdout",
          "text": [
            "5\n",
            "5.0\n",
            "2\n",
            "3\n",
            "3.3333333333333335\n",
            "-2\n",
            "-4\n",
            "-3.25\n",
            "3\n",
            "3.25\n"
          ]
        }
      ]
    },
    {
      "cell_type": "code",
      "source": [
        "# Modulus % operator ==> Gives the reminder as o/p\n",
        "print(3%3)\n",
        "print(4%3)\n",
        "print(5%3)\n",
        "print(6%3)\n",
        "print(7%3)\n",
        "print(8%3)\n",
        "print(9%3)\n",
        "print(10%3)"
      ],
      "metadata": {
        "colab": {
          "base_uri": "https://localhost:8080/"
        },
        "id": "6egRrhr8LFa5",
        "outputId": "bd84ddd4-68d3-4fb0-f0ab-ab7f73d2086a"
      },
      "execution_count": null,
      "outputs": [
        {
          "output_type": "stream",
          "name": "stdout",
          "text": [
            "0\n",
            "1\n",
            "2\n",
            "0\n",
            "1\n",
            "2\n",
            "0\n",
            "1\n"
          ]
        }
      ]
    },
    {
      "cell_type": "code",
      "source": [
        "print(2==3)"
      ],
      "metadata": {
        "colab": {
          "base_uri": "https://localhost:8080/"
        },
        "id": "ezLOUJiEMYfX",
        "outputId": "f9f73054-078e-4825-93ed-c99191259263"
      },
      "execution_count": null,
      "outputs": [
        {
          "output_type": "stream",
          "name": "stdout",
          "text": [
            "False\n"
          ]
        }
      ]
    },
    {
      "cell_type": "code",
      "source": [
        "print(2 == 2)"
      ],
      "metadata": {
        "colab": {
          "base_uri": "https://localhost:8080/"
        },
        "id": "ofshzPaEMb1S",
        "outputId": "064c7d4a-66be-468a-8f59-4ac1e6004828"
      },
      "execution_count": null,
      "outputs": [
        {
          "output_type": "stream",
          "name": "stdout",
          "text": [
            "True\n"
          ]
        }
      ]
    },
    {
      "cell_type": "code",
      "source": [
        "print(2.0 == 2)"
      ],
      "metadata": {
        "colab": {
          "base_uri": "https://localhost:8080/"
        },
        "id": "2Vy9PluqMd7c",
        "outputId": "4ebde35f-de32-4d9f-b5b9-755dfe5f2aa2"
      },
      "execution_count": null,
      "outputs": [
        {
          "output_type": "stream",
          "name": "stdout",
          "text": [
            "True\n"
          ]
        }
      ]
    },
    {
      "cell_type": "code",
      "source": [
        "\"Anil\" == 'anil'"
      ],
      "metadata": {
        "colab": {
          "base_uri": "https://localhost:8080/"
        },
        "id": "A9PKgxdrMiM6",
        "outputId": "36d34a45-1a96-489f-c6c8-802cbb594d7f"
      },
      "execution_count": null,
      "outputs": [
        {
          "output_type": "execute_result",
          "data": {
            "text/plain": [
              "False"
            ]
          },
          "metadata": {},
          "execution_count": 25
        }
      ]
    },
    {
      "cell_type": "code",
      "source": [
        "2 != 3"
      ],
      "metadata": {
        "colab": {
          "base_uri": "https://localhost:8080/"
        },
        "id": "pdZ4q5t5MoBL",
        "outputId": "3b68b2c4-83c7-4ada-d386-b2759412da5a"
      },
      "execution_count": null,
      "outputs": [
        {
          "output_type": "execute_result",
          "data": {
            "text/plain": [
              "True"
            ]
          },
          "metadata": {},
          "execution_count": 26
        }
      ]
    },
    {
      "cell_type": "code",
      "source": [
        "\"Anil\" != 'anil'"
      ],
      "metadata": {
        "colab": {
          "base_uri": "https://localhost:8080/"
        },
        "id": "vfiQ1JBIMrXZ",
        "outputId": "6cd4622c-7a99-444d-bad4-474db8385d63"
      },
      "execution_count": null,
      "outputs": [
        {
          "output_type": "execute_result",
          "data": {
            "text/plain": [
              "True"
            ]
          },
          "metadata": {},
          "execution_count": 27
        }
      ]
    },
    {
      "cell_type": "code",
      "source": [
        "print(7 > 6)"
      ],
      "metadata": {
        "colab": {
          "base_uri": "https://localhost:8080/"
        },
        "id": "o2jbZwkqMwS7",
        "outputId": "12f7baef-2348-43da-c076-4883f80b5d7f"
      },
      "execution_count": null,
      "outputs": [
        {
          "output_type": "stream",
          "name": "stdout",
          "text": [
            "True\n"
          ]
        }
      ]
    },
    {
      "cell_type": "code",
      "source": [
        "print( 7 >= 7)"
      ],
      "metadata": {
        "colab": {
          "base_uri": "https://localhost:8080/"
        },
        "id": "KvAPpbyOM1_F",
        "outputId": "ec16a0ce-1860-4d4a-8b01-04fe2b21cc6e"
      },
      "execution_count": null,
      "outputs": [
        {
          "output_type": "stream",
          "name": "stdout",
          "text": [
            "True\n"
          ]
        }
      ]
    },
    {
      "cell_type": "code",
      "source": [
        "print(True and True)\n",
        "print(True and False)\n",
        "print(False and True)\n",
        "print(False and False)\n",
        "print(True or True)\n",
        "print(True or False)\n",
        "print(False or True)\n",
        "print(False or False)"
      ],
      "metadata": {
        "colab": {
          "base_uri": "https://localhost:8080/"
        },
        "id": "rGVdxjoAOjD1",
        "outputId": "21a7da16-1f59-4a69-dc26-aca7ab118725"
      },
      "execution_count": null,
      "outputs": [
        {
          "output_type": "stream",
          "name": "stdout",
          "text": [
            "True\n",
            "False\n",
            "False\n",
            "False\n",
            "True\n",
            "True\n",
            "True\n",
            "False\n"
          ]
        }
      ]
    },
    {
      "cell_type": "markdown",
      "source": [
        "# **print**"
      ],
      "metadata": {
        "id": "qg8L0-7uaWb-"
      }
    },
    {
      "cell_type": "code",
      "source": [
        "print('Hello World!!')"
      ],
      "metadata": {
        "id": "YOVjtpm3RJWQ",
        "outputId": "d8ff4282-96ec-496e-d491-b4b662f66771",
        "colab": {
          "base_uri": "https://localhost:8080/"
        }
      },
      "execution_count": null,
      "outputs": [
        {
          "output_type": "stream",
          "name": "stdout",
          "text": [
            "Hello World!!\n"
          ]
        }
      ]
    },
    {
      "cell_type": "code",
      "source": [
        "print('Hello Learn DSA with Python')"
      ],
      "metadata": {
        "id": "zjlYHKFqRero",
        "outputId": "d9a2c407-3072-404e-e045-4c045d1a82fc",
        "colab": {
          "base_uri": "https://localhost:8080/"
        }
      },
      "execution_count": null,
      "outputs": [
        {
          "output_type": "stream",
          "name": "stdout",
          "text": [
            "Hello Learn DSA with Python\n"
          ]
        }
      ]
    },
    {
      "cell_type": "code",
      "source": [
        "print('Hello I am doing it from Print Statemennt')"
      ],
      "metadata": {
        "id": "E1KPkHuPR7Vn",
        "outputId": "49552039-661f-4e9c-806d-f90070c833ef",
        "colab": {
          "base_uri": "https://localhost:8080/"
        }
      },
      "execution_count": null,
      "outputs": [
        {
          "output_type": "stream",
          "name": "stdout",
          "text": [
            "Hello I am doing it from Print Statemennt\n"
          ]
        }
      ]
    },
    {
      "cell_type": "markdown",
      "source": [
        "# **Data Types**\n"
      ],
      "metadata": {
        "id": "d-6AcCS9ajw0"
      }
    },
    {
      "cell_type": "markdown",
      "source": [
        "1. Integer\n",
        "2. Float\n",
        "3. Bool\n",
        "4. none\n",
        "5. Strings"
      ],
      "metadata": {
        "id": "G6JUlRwwcJa_"
      }
    },
    {
      "cell_type": "code",
      "source": [
        "print(type(1))"
      ],
      "metadata": {
        "id": "P9l85PsccB3-",
        "outputId": "040363fe-8ca9-4d55-fb55-c8d3cf713f53",
        "colab": {
          "base_uri": "https://localhost:8080/"
        }
      },
      "execution_count": null,
      "outputs": [
        {
          "output_type": "stream",
          "name": "stdout",
          "text": [
            "<class 'int'>\n"
          ]
        }
      ]
    },
    {
      "cell_type": "code",
      "source": [
        "print(type('1'))"
      ],
      "metadata": {
        "id": "ibpO6CRZckHr",
        "outputId": "88a4b4fb-bca4-4d1c-cef3-4f38e1eb9566",
        "colab": {
          "base_uri": "https://localhost:8080/"
        }
      },
      "execution_count": null,
      "outputs": [
        {
          "output_type": "stream",
          "name": "stdout",
          "text": [
            "<class 'str'>\n"
          ]
        }
      ]
    },
    {
      "cell_type": "code",
      "source": [
        "print(type(True))"
      ],
      "metadata": {
        "id": "_rVH80qRcrdX",
        "outputId": "10b72b93-5a8a-484b-da6a-49060deb997e",
        "colab": {
          "base_uri": "https://localhost:8080/"
        }
      },
      "execution_count": null,
      "outputs": [
        {
          "output_type": "stream",
          "name": "stdout",
          "text": [
            "<class 'bool'>\n"
          ]
        }
      ]
    },
    {
      "cell_type": "code",
      "source": [
        "type(1.09)"
      ],
      "metadata": {
        "id": "uSQ1J7OscwG-",
        "outputId": "a50aecfc-c6a2-4602-a499-a52cd9490287",
        "colab": {
          "base_uri": "https://localhost:8080/"
        }
      },
      "execution_count": null,
      "outputs": [
        {
          "output_type": "execute_result",
          "data": {
            "text/plain": [
              "float"
            ]
          },
          "metadata": {},
          "execution_count": 8
        }
      ]
    },
    {
      "cell_type": "code",
      "source": [
        "type(None)"
      ],
      "metadata": {
        "id": "UHuaFfwRc2fL",
        "outputId": "388e7434-e7fc-409e-ee52-46d5b57b3480",
        "colab": {
          "base_uri": "https://localhost:8080/"
        }
      },
      "execution_count": null,
      "outputs": [
        {
          "output_type": "execute_result",
          "data": {
            "text/plain": [
              "NoneType"
            ]
          },
          "metadata": {},
          "execution_count": 9
        }
      ]
    },
    {
      "cell_type": "code",
      "source": [
        "print(\"Multi Line\")\n",
        "print(\"Multi Line\")\n",
        "print(\"Multi Line\")\n",
        "print(\"Multi Line\")"
      ],
      "metadata": {
        "id": "Ctnm1oUXdNdr",
        "outputId": "2c27007b-c02b-473e-bd00-758278c5f1c1",
        "colab": {
          "base_uri": "https://localhost:8080/"
        }
      },
      "execution_count": null,
      "outputs": [
        {
          "output_type": "stream",
          "name": "stdout",
          "text": [
            "Multi Line\n",
            "Multi Line\n",
            "Multi Line\n",
            "Multi Line\n"
          ]
        }
      ]
    },
    {
      "cell_type": "code",
      "source": [
        "type('prints only first line')\n",
        "type('prints only second line')\n",
        "type('prints only third line')\n",
        "type('prints only last line')"
      ],
      "metadata": {
        "id": "sSfxw8hjdUsh",
        "outputId": "0596ec3d-2f7a-459e-f2ba-a268814ff306",
        "colab": {
          "base_uri": "https://localhost:8080/"
        }
      },
      "execution_count": null,
      "outputs": [
        {
          "output_type": "execute_result",
          "data": {
            "text/plain": [
              "str"
            ]
          },
          "metadata": {},
          "execution_count": 12
        }
      ]
    },
    {
      "cell_type": "markdown",
      "source": [
        "# **Variables**"
      ],
      "metadata": {
        "id": "IaUpJ9XNs35o"
      }
    },
    {
      "cell_type": "code",
      "source": [
        "name = 'Anil Simha'"
      ],
      "metadata": {
        "id": "Uk7nHFpktM29"
      },
      "execution_count": null,
      "outputs": []
    },
    {
      "cell_type": "code",
      "source": [
        "print(name)"
      ],
      "metadata": {
        "id": "RYg-rIfWtQYq",
        "outputId": "46d531ab-b4d0-44fa-e799-aec733fc3a10",
        "colab": {
          "base_uri": "https://localhost:8080/"
        }
      },
      "execution_count": null,
      "outputs": [
        {
          "output_type": "stream",
          "name": "stdout",
          "text": [
            "Anil Simha\n"
          ]
        }
      ]
    },
    {
      "cell_type": "code",
      "source": [
        "Name = \"Tallapragada\""
      ],
      "metadata": {
        "id": "-Ebts_6BtTKu"
      },
      "execution_count": null,
      "outputs": []
    },
    {
      "cell_type": "code",
      "source": [
        "print(Name)"
      ],
      "metadata": {
        "id": "Arp0Nem_tYNp",
        "outputId": "42819b47-c1db-4386-8d6e-dc38967c6674",
        "colab": {
          "base_uri": "https://localhost:8080/"
        }
      },
      "execution_count": null,
      "outputs": [
        {
          "output_type": "stream",
          "name": "stdout",
          "text": [
            "Tallapragada\n"
          ]
        }
      ]
    },
    {
      "cell_type": "code",
      "source": [
        "_name_ = 'Bobby'\n",
        "print(_name_)"
      ],
      "metadata": {
        "id": "c3e_22UBtbJ3",
        "outputId": "4ea911b2-d9cf-4e6c-aad5-40f4a8489586",
        "colab": {
          "base_uri": "https://localhost:8080/"
        }
      },
      "execution_count": null,
      "outputs": [
        {
          "output_type": "stream",
          "name": "stdout",
          "text": [
            "Bobby\n"
          ]
        }
      ]
    },
    {
      "cell_type": "code",
      "source": [
        "name_1= 'AST'\n",
        "print(name_1)"
      ],
      "metadata": {
        "id": "7gIe7RO5t7i1",
        "outputId": "27cc6f23-a4d6-4df2-b042-8034c082b871",
        "colab": {
          "base_uri": "https://localhost:8080/"
        }
      },
      "execution_count": null,
      "outputs": [
        {
          "output_type": "stream",
          "name": "stdout",
          "text": [
            "AST\n"
          ]
        }
      ]
    },
    {
      "cell_type": "code",
      "source": [
        "name = 'Anil Simha Tallapragada'"
      ],
      "metadata": {
        "id": "s7u8h4nFt5A5"
      },
      "execution_count": null,
      "outputs": []
    },
    {
      "cell_type": "code",
      "source": [
        "print(name)"
      ],
      "metadata": {
        "id": "VjcRimPowgNL",
        "outputId": "3d9543be-48b5-4604-c09d-3abd3916ff6a",
        "colab": {
          "base_uri": "https://localhost:8080/"
        }
      },
      "execution_count": null,
      "outputs": [
        {
          "output_type": "stream",
          "name": "stdout",
          "text": [
            "Anil Simha Tallapragada\n"
          ]
        }
      ]
    },
    {
      "cell_type": "code",
      "source": [],
      "metadata": {
        "id": "4Sphjq9zwjKB"
      },
      "execution_count": null,
      "outputs": []
    },
    {
      "cell_type": "markdown",
      "source": [
        "# **Input Function**"
      ],
      "metadata": {
        "id": "LD6LD-2PxK1E"
      }
    },
    {
      "cell_type": "code",
      "source": [
        "# By default takes it as str\n",
        "x = input()\n",
        "y = input()\n",
        "z = x + y\n",
        "print(z)"
      ],
      "metadata": {
        "id": "dApXn5XaxRdu",
        "outputId": "aa355740-9f46-4585-d11f-17c242f364e2",
        "colab": {
          "base_uri": "https://localhost:8080/"
        }
      },
      "execution_count": null,
      "outputs": [
        {
          "output_type": "stream",
          "name": "stdout",
          "text": [
            "5\n",
            "5\n",
            "55\n"
          ]
        }
      ]
    },
    {
      "cell_type": "code",
      "source": [
        "x = int(input())\n",
        "y = int(input())\n",
        "z = (x + y)\n",
        "print(z)"
      ],
      "metadata": {
        "id": "LDKAdIrQyJaN",
        "outputId": "9b557e27-1281-426e-9fcc-a1efd5b9cf74",
        "colab": {
          "base_uri": "https://localhost:8080/"
        }
      },
      "execution_count": null,
      "outputs": [
        {
          "output_type": "stream",
          "name": "stdout",
          "text": [
            "99\n",
            "99\n",
            "198\n"
          ]
        }
      ]
    },
    {
      "cell_type": "code",
      "metadata": {
        "id": "994e6969"
      },
      "source": [
        "T = int(input(\"Enter the number of test cases: \"))"
      ],
      "execution_count": null,
      "outputs": []
    },
    {
      "cell_type": "code",
      "metadata": {
        "id": "137fb57e"
      },
      "source": [
        "for _ in range(T):\n",
        "    N = int(input(\"Enter a number: \"))\n",
        "    reversed_N = 0\n",
        "    original_N = N # Store the original number for printing later\n",
        "\n",
        "    while N > 0:\n",
        "        digit = N % 10\n",
        "        reversed_N = reversed_N * 10 + digit\n",
        "        N = N // 10\n",
        "\n",
        "    print(f\"The reverse of {original_N} is: {reversed_N}\")"
      ],
      "execution_count": null,
      "outputs": []
    }
  ],
  "metadata": {
    "colab": {
      "toc_visible": true,
      "provenance": [],
      "collapsed_sections": [
        "AeyROlJnkbRf",
        "BVqVGXkrBP_0",
        "qg8L0-7uaWb-",
        "d-6AcCS9ajw0",
        "IaUpJ9XNs35o",
        "LD6LD-2PxK1E"
      ],
      "include_colab_link": true
    },
    "kernelspec": {
      "display_name": "Python 3",
      "name": "python3"
    }
  },
  "nbformat": 4,
  "nbformat_minor": 0
}